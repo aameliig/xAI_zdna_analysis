{
 "cells": [
  {
   "cell_type": "markdown",
   "metadata": {
    "id": "-sOrBJWx5wNf"
   },
   "source": [
    "# Compute Feature Rankings and Export RRA Scores for Omics Data\n",
    "\n",
    "This notebook reads interpretation data, computes per-method ranks and RRA scores, and writes the results to an Excel file.\n"
   ]
  },
  {
   "cell_type": "code",
   "execution_count": null,
   "metadata": {
    "id": "DUhiJJ-m6HCJ"
   },
   "outputs": [],
   "source": [
    "import torch\n",
    "import pandas as pd\n",
    "import numpy as np\n",
    "from itertools import product"
   ]
  },
  {
   "cell_type": "code",
   "execution_count": null,
   "metadata": {
    "id": "jf2HjpgA6Fgl"
   },
   "outputs": [],
   "source": [
    "%%R\n",
    "install.packages(\"RobustRankAggreg\", repos=\"https://cloud.r-project.org\")\n",
    "library(RobustRankAggreg)\n",
    "packageVersion(\"RobustRankAggreg\")\n",
    "install.packages(\"writexl\")\n",
    "library(readxl)\n",
    "library(RobustRankAggreg)"
   ]
  },
  {
   "cell_type": "code",
   "execution_count": null,
   "metadata": {
    "id": "kTfx56Yj54XV"
   },
   "outputs": [],
   "source": [
    "%%R\n",
    "\n",
    "# Define method groups\n",
    "full_methods <- c(\n",
    "  \"cnn_Impact_IxG\", \"cnn_Impact_IG\", \"cnn_Impact_GuidedBackprop\", \"cnn_Impact_Deconvolution\",\n",
    "  \"gnn_Impact_IG\", \"gnn_Impact_Saliency\", \"gnn_Impact_IxG\", \"gnn_Impact_Deconvolution\",\n",
    "  \"gnn_Impact_GuidedBackprop\", \"gnn_Impact_GNN_explainer\"\n",
    ")\n",
    "cnn_methods <- c(\n",
    "  \"cnn_Impact_IxG\", \"cnn_Impact_IG\", \"cnn_Impact_GuidedBackprop\", \"cnn_Impact_Deconvolution\"\n",
    ")\n",
    "gnn_methods <- c(\n",
    "  \"gnn_Impact_IG\", \"gnn_Impact_Saliency\", \"gnn_Impact_IxG\", \"gnn_Impact_Deconvolution\",\n",
    "  \"gnn_Impact_GuidedBackprop\", \"gnn_Impact_GNN_explainer\"\n",
    ")\n",
    "\n",
    "# File paths\n",
    "input_path  <- \"data/input_features.xlsx\"\n",
    "output_path <- \"results/abs_ranking.xlsx\""
   ]
  },
  {
   "cell_type": "code",
   "execution_count": null,
   "metadata": {
    "id": "Pd91MMvX6T9x"
   },
   "outputs": [],
   "source": [
    "%%R\n",
    "\n",
    "compute_rankings <- function(data, methods, prefix) {\n",
    "  for (m in methods) {\n",
    "    data[[paste0(m, \"_rank\")]] <- rank(-abs(data[[m]]), ties.method = \"min\")\n",
    "  }\n",
    "\n",
    "  rank_lists <- lapply(methods, function(m) {\n",
    "    data$feature[order(-abs(data[[m]]))] #ranking by modules\n",
    "  })\n",
    "  names(rank_lists) <- methods\n",
    "\n",
    "  agg <- aggregateRanks(rank_lists)\n",
    "  agg$agg_rank <- rank(agg$Score, ties.method = \"min\")\n",
    "\n",
    "  agg_simple <- data.frame(\n",
    "    feature           = agg$Name,\n",
    "    RRA_score_col     = agg$Score,\n",
    "    RRA_rank_col      = agg$agg_rank,\n",
    "    stringsAsFactors  = FALSE\n",
    "  )\n",
    "  names(agg_simple)[2:3] <- paste0(prefix, c(\"_RRA_score\", \"_RRA_rank\"))\n",
    "\n",
    "  merge(data, agg_simple, by = \"feature\", all.x = TRUE)\n",
    "}"
   ]
  },
  {
   "cell_type": "code",
   "execution_count": null,
   "metadata": {
    "id": "iPkP_euCx3Ql"
   },
   "outputs": [],
   "source": [
    "%%R\n",
    "\n",
    "df <- read_excel(input_path)\n",
    "all_methods <- unique(c(full_methods, cnn_methods, gnn_methods))\n",
    "df[all_methods] <- lapply(df[all_methods], as.numeric)\n",
    "\n",
    "df2 <- compute_rankings(df, full_methods, \"full\")\n",
    "df2 <- compute_rankings(df2, cnn_methods,  \"cnn\")\n",
    "df2 <- compute_rankings(df2, gnn_methods,  \"gnn\")\n",
    "\n",
    "write_xlsx(df2, path = output_path)"
   ]
  }
 ],
 "metadata": {
  "colab": {
   "provenance": []
  },
  "kernelspec": {
   "display_name": "Python 3 (ipykernel)",
   "language": "python",
   "name": "python3"
  },
  "language_info": {
   "codemirror_mode": {
    "name": "ipython",
    "version": 3
   },
   "file_extension": ".py",
   "mimetype": "text/x-python",
   "name": "python",
   "nbconvert_exporter": "python",
   "pygments_lexer": "ipython3",
   "version": "3.11.2"
  }
 },
 "nbformat": 4,
 "nbformat_minor": 1
}
