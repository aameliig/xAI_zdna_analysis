{
  "cells": [
    {
      "cell_type": "markdown",
      "metadata": {
        "id": "BtHFqTgMAMEQ"
      },
      "source": [
        "# Robust Genomic Feature Selection Pipeline using an Ensemble of xAI Methods"
      ]
    },
    {
      "cell_type": "markdown",
      "metadata": {
        "id": "O4BQjS0KARsR"
      },
      "source": [
        "## Imports"
      ]
    },
    {
      "cell_type": "code",
      "execution_count": null,
      "metadata": {
        "id": "PUvsgHBlALa4",
        "collapsed": true
      },
      "outputs": [],
      "source": [
        "!git clone https://github.com/vladislareon/Sparse_vector\n",
        "!git clone https://github.com/vladislareon/z_dna"
      ]
    },
    {
      "cell_type": "code",
      "execution_count": null,
      "metadata": {
        "collapsed": true,
        "id": "aEOWr4laZC8e",
        "jupyter": {
          "outputs_hidden": true
        }
      },
      "outputs": [],
      "source": [
        "!git clone https://github.com/vladislareon/Interpretation"
      ]
    },
    {
      "cell_type": "code",
      "execution_count": null,
      "metadata": {
        "id": "viFiCowkrgv-",
        "collapsed": true
      },
      "outputs": [],
      "source": [
        "!pip install torch"
      ]
    },
    {
      "cell_type": "code",
      "execution_count": null,
      "metadata": {
        "id": "djZXiEt6Ad3Q"
      },
      "outputs": [],
      "source": [
        "# imports\n",
        "import os\n",
        "import numpy as np\n",
        "import pandas as pd\n",
        "\n",
        "from joblib import load\n",
        "from tqdm.notebook import tqdm\n",
        "from torch.utils import data\n",
        "\n",
        "from sklearn.metrics import roc_auc_score, f1_score, precision_score, recall_score\n",
        "from IPython.display import clear_output\n",
        "\n",
        "import torch\n",
        "from torch.utils import data\n",
        "\n",
        "from Sparse_vector.sparse_vector import SparseVector\n",
        "from data_preparation import chrom_reader, get_train_test_dataset\n",
        "from train_test import set_random_seed, train\n",
        "from cnn_model import DeepCNN_12_layers\n",
        "from interpretation import cnn_interpretation_pipeline, get_ranked_features\n",
        "\n",
        "\n",
        "device = torch.device('cuda:0' if torch.cuda.is_available() else 'cpu')"
      ]
    },
    {
      "cell_type": "markdown",
      "metadata": {
        "id": "yGXrZQJoZELp"
      },
      "source": [
        "## Data Preparation"
      ]
    },
    {
      "cell_type": "code",
      "execution_count": null,
      "metadata": {
        "id": "ivoSIlDyZC8g"
      },
      "outputs": [],
      "source": [
        "chroms = [f'chr{i}' for i in list(range(1, 23)) + ['X', 'Y','M']]\n",
        "all_features = [i[:-4] for i in os.listdir('z_dna/hg38_features/sparse/') if i.endswith('.pkl')]\n",
        "groups = ['DNase-seq', 'Histone', 'RNA polymerase', 'TFs and others']\n",
        "feature_names = [i for i in all_features]"
      ]
    },
    {
      "cell_type": "code",
      "execution_count": null,
      "metadata": {
        "colab": {
          "base_uri": "https://localhost:8080/",
          "height": 117,
          "referenced_widgets": [
            "0e60d1ee5fc74c23b3f5294b13bc2c31",
            "cfce85a0a80243f1853288303d77f629",
            "16273a95d7a34ba9bd8aac632bb5d79f",
            "c6d01735dedc488faecfe7e9f3dd94ff",
            "0a99ea4377734a9f8c79085f99228a4b",
            "5b4729557ea14bd4b69a2692d065c1c8",
            "0b5caa7a7ec54efdbaf6d7ffa367fec5",
            "15c64c96315e48faa53db2ef6f50b851",
            "e0f6e5a994524e089ebb2233683fe8b7",
            "1d1c58fe0312400f9af0b65d8b91eca5",
            "ad68264b1fe9447c97be4fdb2cfc5672",
            "919d9f6ef2e64fe6816fc946681661d2",
            "39db6d9113f14c8f8d55e6e656bdfcfa",
            "732526c2dfe14326832a2fb86db6d6e3",
            "567e7d67e988418b95b6b73e343e1382",
            "fe7702d447b04fd7a338365fdb5b2f99",
            "0d48a360e93d43999725ed2da29dac94",
            "d6c0250095034aa7b608c188cc76a0cc",
            "90109e07fdb0461faf6212e26525c415",
            "8da87fd0e1504ab4b7ed512716ccf5f0",
            "295f3c0f88304bea97bc5d2e21bc9e89",
            "4367886b8e7e40adb5eb8692e649aff5",
            "dcb2b3fdb1b74ea5961d0b6ec065cc67",
            "3939ddfb83194b97b8421ca8b104e819"
          ]
        },
        "id": "-uzLeN4LZC8h",
        "outputId": "bbaa5254-dda4-4cc0-99ea-91853b6eccb1"
      },
      "outputs": [
        {
          "data": {
            "application/vnd.jupyter.widget-view+json": {
              "model_id": "dcb2b3fdb1b74ea5961d0b6ec065cc67",
              "version_major": 2,
              "version_minor": 0
            },
            "text/plain": [
              "  0%|          | 0/25 [00:00<?, ?it/s]"
            ]
          },
          "metadata": {},
          "output_type": "display_data"
        },
        {
          "data": {
            "application/vnd.jupyter.widget-view+json": {
              "model_id": "3939ddfb83194b97b8421ca8b104e819",
              "version_major": 2,
              "version_minor": 0
            },
            "text/plain": [
              "  0%|          | 0/1946 [00:00<?, ?it/s]"
            ]
          },
          "metadata": {},
          "output_type": "display_data"
        },
        {
          "name": "stdout",
          "output_type": "stream",
          "text": [
            "CPU times: user 1min 21s, sys: 5.77 s, total: 1min 27s\n",
            "Wall time: 1min 55s\n"
          ]
        }
      ],
      "source": [
        "%%time\n",
        "DNA = {chrom:chrom_reader(chrom) for chrom in tqdm(chroms)}\n",
        "\n",
        "# choose ZDNA Data to load\n",
        "# ZDNA_shin = load('z_dna/hg38_zdna/sparse/ZDNA_shin.pkl')\n",
        "# ZDNA_cousine = load('z_dna/hg38_zdna/sparse/ZDNA_cousine.pkl')\n",
        "\n",
        "ZDNA = load('z_dna/hg38_zdna/sparse/ZDNA_cousine.pkl')\n",
        "\n",
        "DNA_features = {feature: load(f'z_dna/hg38_features/sparse/{feature}.pkl')\n",
        "                for feature in tqdm(feature_names)}"
      ]
    },
    {
      "cell_type": "code",
      "execution_count": null,
      "metadata": {
        "id": "kX2VhgltZC8i",
        "collapsed": true
      },
      "outputs": [],
      "source": [
        "np.random.seed(10)\n",
        "\n",
        "# recommended width of the interval = 100\n",
        "width = 100\n",
        "\n",
        "train_dataset, test_dataset = get_train_test_dataset(width, chroms, feature_names, DNA, DNA_features, ZDNA)"
      ]
    },
    {
      "cell_type": "code",
      "execution_count": null,
      "metadata": {
        "id": "oRAlMdNzZC8j"
      },
      "outputs": [],
      "source": [
        "params = {'batch_size':1,\n",
        "          'num_workers':20,\n",
        "          'shuffle':True}\n",
        "\n",
        "loader_train = data.DataLoader(train_dataset, **params)\n",
        "loader_test = data.DataLoader(test_dataset, **params)"
      ]
    },
    {
      "cell_type": "markdown",
      "metadata": {
        "id": "BKW2Icv6ZC8j"
      },
      "source": [
        "## Init Model"
      ]
    },
    {
      "cell_type": "code",
      "execution_count": null,
      "metadata": {
        "id": "drXPBT1Y73-x"
      },
      "outputs": [],
      "source": [
        "set_random_seed(42)\n",
        "torch.cuda.empty_cache()\n",
        "\n",
        "with torch.cuda.device(device):\n",
        "    model = DeepCNN_12_layers(width, features_count=len(feature_names))\n",
        "    model = model.to(device)"
      ]
    },
    {
      "cell_type": "markdown",
      "metadata": {
        "id": "3Bi4KGrzCURS"
      },
      "source": [
        "## Train Model"
      ]
    },
    {
      "cell_type": "code",
      "execution_count": null,
      "metadata": {
        "id": "gub_t2ZiCzfU",
        "outputId": "196bde70-ad47-4221-f62d-9299e9b224d8"
      },
      "outputs": [
        {
          "data": {
            "image/png": "[encoded data removed]",
            "text/plain": [
              "<Figure size 2000x400 with 1 Axes>"
            ]
          },
          "metadata": {},
          "output_type": "display_data"
        },
        {
          "data": {
            "image/png": "[encoded data removed]",
            "text/plain": [
              "<Figure size 2000x400 with 1 Axes>"
            ]
          },
          "metadata": {},
          "output_type": "display_data"
        },
        {
          "data": {
            "image/png": "[encoded data removed]",
            "text/plain": [
              "<Figure size 2000x400 with 1 Axes>"
            ]
          },
          "metadata": {},
          "output_type": "display_data"
        },
        {
          "data": {
            "image/png": "[encoded data removed]",
            "text/plain": [
              "<Figure size 2000x400 with 1 Axes>"
            ]
          },
          "metadata": {},
          "output_type": "display_data"
        },
        {
          "name": "stdout",
          "output_type": "stream",
          "text": [
            "Time:  29025485.945448842\n",
            "Epoch 1: ROC-AUC = 97.77%\n",
            "Epoch 1: Precision = 0.835\n",
            "Epoch 1: Recall = 0.858\n",
            "Epoch 1: F1-score = 0.833\n",
            "Final ROC-AUC = 97.77%\n",
            "Final Precision = 0.835\n",
            "Final Recall = 0.858\n",
            "Final F1-score = 0.833\n"
          ]
        }
      ],
      "source": [
        "n_epochs = 1\n",
        "opt = torch.optim.RMSprop(model.parameters(), lr=10**-4, weight_decay=10**-4)\n",
        "\n",
        "val_auc_log, val_pr_log, val_rec_log, val_f1_log, val_acc_log, val_loss_log, times, best_models = train(model, opt, n_epochs, loader_train, loader_test)"
      ]
    },
    {
      "cell_type": "code",
      "execution_count": null,
      "metadata": {
        "id": "81ZHq6fjC56G",
        "outputId": "592b34d9-f466-4230-beb1-fb834983ab66"
      },
      "outputs": [
        {
          "name": "stdout",
          "output_type": "stream",
          "text": [
            "Epoch 0\n",
            "Max F1-score: 83.2758%\n",
            "ROC-AUC: 97.7666%\n",
            "Precision: 0.8347\n",
            "Recall: 0.8575\n",
            "Mean time for 1 epoch 188.84 minutes\n"
          ]
        }
      ],
      "source": [
        "print(\"Epoch {}\".format(np.argmax(val_f1_log)))\n",
        "print(\"Max F1-score: {:.4f}%\".format(val_f1_log[np.argmax(val_f1_log)]*100))\n",
        "print(\"ROC-AUC: {:.4f}%\".format(val_auc_log[np.argmax(val_f1_log)]*100))\n",
        "print(\"Precision: {:.4f}\".format(val_pr_log[np.argmax(val_f1_log)]))\n",
        "print(\"Recall: {:.4f}\".format(val_rec_log[np.argmax(val_f1_log)]))\n",
        "\n",
        "print(\"Mean time for 1 epoch {:.2f} minutes\".format(np.mean(times) / 60))"
      ]
    },
    {
      "cell_type": "markdown",
      "metadata": {
        "id": "OH-kcRxTZC8l"
      },
      "source": [
        "## Interpretation Pipeline for CNN Model: instruction"
      ]
    },
    {
      "cell_type": "code",
      "execution_count": null,
      "metadata": {
        "id": "OIxoOsOeDJgd"
      },
      "outputs": [],
      "source": [
        "'''\n",
        "algorithm can be:\n",
        "\n",
        "- IntegratedGradients = default\n",
        "- GuidedBackprop\n",
        "- Deconvolution\n",
        "- InputXGradient\n",
        "\n",
        "model is trained and interpretated model; in eval()\n",
        "\n",
        "loader_test, loader_train is interpreted data\n",
        "\n",
        "width is width of the interval\n",
        "\n",
        "save_filename is name of saved file\n",
        "\n",
        "need_return whether output of interpretation is needed; 0 or 1\n",
        "\n",
        "'''"
      ]
    },
    {
      "cell_type": "code",
      "execution_count": null,
      "metadata": {
        "id": "yoBBQ_UOcxLU"
      },
      "outputs": [],
      "source": [
        "'''\n",
        "# example\n",
        "\n",
        "cnn_interpretation_pipeline(model, loader_test, loader_train, width, 'mean_GraphZSAGEConv_v5_lin_GuidedBackprop','GuidedBackprop', need_return=0)\n",
        "# or\n",
        "mean_GB = cnn_interpretation_pipeline(model, loader_test, loader_train, width, 'mean_GraphZSAGEConv_v5_lin_GuidedBackprop', 'GuidedBackprop', need_return=1)\n",
        "'''"
      ]
    },
    {
      "cell_type": "markdown",
      "metadata": {
        "id": "Unggr690Dcbd"
      },
      "source": [
        "## Interpretation"
      ]
    },
    {
      "cell_type": "code",
      "execution_count": null,
      "metadata": {
        "id": "Wnf--TTpDeP4",
        "outputId": "ff234e37-9043-4947-8a50-34cf6644e0f2"
      },
      "outputs": [
        {
          "data": {
            "text/plain": [
              "DeepCNN_12_layers(\n",
              "  (seq): Sequential(\n",
              "    (0): Conv2d(1, 4, kernel_size=(3, 3), stride=(1, 1), padding=(1, 1))\n",
              "    (1): ReLU()\n",
              "    (2): GroupNorm(2, 4, eps=1e-05, affine=True)\n",
              "    (3): Conv2d(4, 8, kernel_size=(3, 3), stride=(1, 1), padding=(1, 1))\n",
              "    (4): ReLU()\n",
              "    (5): GroupNorm(4, 8, eps=1e-05, affine=True)\n",
              "    (6): Conv2d(8, 16, kernel_size=(3, 3), stride=(1, 1), padding=(1, 1))\n",
              "    (7): ReLU()\n",
              "    (8): GroupNorm(8, 16, eps=1e-05, affine=True)\n",
              "    (9): Conv2d(16, 32, kernel_size=(3, 3), stride=(1, 1), padding=(1, 1))\n",
              "    (10): ReLU()\n",
              "    (11): GroupNorm(16, 32, eps=1e-05, affine=True)\n",
              "    (12): Conv2d(32, 64, kernel_size=(3, 3), stride=(1, 1), padding=(1, 1))\n",
              "    (13): ReLU()\n",
              "    (14): GroupNorm(16, 64, eps=1e-05, affine=True)\n",
              "    (15): Conv2d(64, 128, kernel_size=(5, 5), stride=(1, 1), padding=(2, 2))\n",
              "    (16): ReLU()\n",
              "    (17): GroupNorm(32, 128, eps=1e-05, affine=True)\n",
              "    (18): Conv2d(128, 64, kernel_size=(3, 3), stride=(1, 1), padding=(1, 1))\n",
              "    (19): ReLU()\n",
              "    (20): GroupNorm(32, 64, eps=1e-05, affine=True)\n",
              "    (21): Conv2d(64, 32, kernel_size=(3, 3), stride=(1, 1), padding=(1, 1))\n",
              "    (22): ReLU()\n",
              "    (23): GroupNorm(16, 32, eps=1e-05, affine=True)\n",
              "    (24): Conv2d(32, 16, kernel_size=(3, 3), stride=(1, 1), padding=(1, 1))\n",
              "    (25): ReLU()\n",
              "    (26): GroupNorm(8, 16, eps=1e-05, affine=True)\n",
              "    (27): Conv2d(16, 8, kernel_size=(3, 3), stride=(1, 1), padding=(1, 1))\n",
              "    (28): ReLU()\n",
              "    (29): GroupNorm(4, 8, eps=1e-05, affine=True)\n",
              "    (30): Conv2d(8, 4, kernel_size=(3, 3), stride=(1, 1), padding=(1, 1))\n",
              "    (31): ReLU()\n",
              "    (32): GroupNorm(4, 4, eps=1e-05, affine=True)\n",
              "    (33): Conv2d(4, 1, kernel_size=(3, 3), stride=(1, 1), padding=(1, 1))\n",
              "    (34): ReLU()\n",
              "    (35): GroupNorm(1, 1, eps=1e-05, affine=True)\n",
              "    (36): AlphaDropout(p=0.2, inplace=False)\n",
              "    (37): Linear(in_features=1950, out_features=500, bias=True)\n",
              "    (38): AlphaDropout(p=0.2, inplace=False)\n",
              "    (39): SELU()\n",
              "    (40): Linear(in_features=500, out_features=2, bias=True)\n",
              "  )\n",
              ")"
            ]
          },
          "execution_count": 63,
          "metadata": {},
          "output_type": "execute_result"
        }
      ],
      "source": [
        "model.eval()"
      ]
    },
    {
      "cell_type": "code",
      "execution_count": null,
      "metadata": {
        "id": "_5Zal9VIcxDQ",
        "colab": {
          "referenced_widgets": [
            "513ccde064f841ca80a8bb9abd46caae",
            "433985d8807d49ed84b0e908b2cdc1a3"
          ]
        },
        "outputId": "45015b74-1b0e-4b99-e38d-9442bd2afd31"
      },
      "outputs": [
        {
          "data": {
            "application/vnd.jupyter.widget-view+json": {
              "model_id": "513ccde064f841ca80a8bb9abd46caae",
              "version_major": 2,
              "version_minor": 0
            },
            "text/plain": [
              "  0%|          | 0/36160 [00:00<?, ?it/s]"
            ]
          },
          "metadata": {},
          "output_type": "display_data"
        },
        {
          "name": "stderr",
          "output_type": "stream",
          "text": [
            "/home/aamelia/python3.11-env/lib/python3.11/site-packages/captum/_utils/gradient.py:57: UserWarning: Input Tensor 0 did not already require gradients, required_grads has been set automatically.\n",
            "  warnings.warn(\n",
            "/home/aamelia/python3.11-env/lib/python3.11/site-packages/captum/attr/_core/guided_backprop_deconvnet.py:64: UserWarning: Setting backward hooks on ReLU activations.The hooks will be removed after the attribution is finished\n",
            "  warnings.warn(\n"
          ]
        },
        {
          "data": {
            "application/vnd.jupyter.widget-view+json": {
              "model_id": "433985d8807d49ed84b0e908b2cdc1a3",
              "version_major": 2,
              "version_minor": 0
            },
            "text/plain": [
              "  0%|          | 0/9041 [00:00<?, ?it/s]"
            ]
          },
          "metadata": {},
          "output_type": "display_data"
        },
        {
          "name": "stdout",
          "output_type": "stream",
          "text": [
            "done interpretation\n",
            "Averaged tensor shape: torch.Size([1950])\n",
            "Averaged tensor: tensor([-0.0195,  0.0066,  0.0091,  ...,  0.0669,  0.0984,  0.0878],\n",
            "       dtype=torch.float64)\n",
            "Interpretation result is an averaged tensor. It is saved as:\n",
            "mean_GuidedBackprop.pt\n"
          ]
        }
      ],
      "source": [
        "mean_GB = cnn_interpretation_pipeline(model, loader_test, loader_train, width, 'mean_GuidedBackprop', 'GuidedBackprop', need_return=1)"
      ]
    },
    {
      "cell_type": "code",
      "execution_count": null,
      "metadata": {
        "id": "ENjcO0qOcwvX",
        "colab": {
          "referenced_widgets": [
            "f6761aa1b279451e9af76c8a56c1488f",
            "b395b2a4cdb1475b8cedae409df98094"
          ]
        },
        "outputId": "02737de5-bf73-4379-bad6-696ac959212a"
      },
      "outputs": [
        {
          "data": {
            "application/vnd.jupyter.widget-view+json": {
              "model_id": "f6761aa1b279451e9af76c8a56c1488f",
              "version_major": 2,
              "version_minor": 0
            },
            "text/plain": [
              "  0%|          | 0/36160 [00:00<?, ?it/s]"
            ]
          },
          "metadata": {},
          "output_type": "display_data"
        },
        {
          "data": {
            "application/vnd.jupyter.widget-view+json": {
              "model_id": "b395b2a4cdb1475b8cedae409df98094",
              "version_major": 2,
              "version_minor": 0
            },
            "text/plain": [
              "  0%|          | 0/9041 [00:00<?, ?it/s]"
            ]
          },
          "metadata": {},
          "output_type": "display_data"
        },
        {
          "name": "stdout",
          "output_type": "stream",
          "text": [
            "done interpretation\n",
            "Averaged tensor shape: torch.Size([1950])\n",
            "Averaged tensor: tensor([ 2.8297e-02,  9.3231e-01, -2.0669e-01,  ...,  0.0000e+00,\n",
            "        -2.1826e-03,  6.6398e-06], dtype=torch.float64)\n",
            "Interpretation result is an averaged tensor. It is saved as:\n",
            "mean_IntegratedGradients.pt\n"
          ]
        }
      ],
      "source": [
        "mean_IG = cnn_interpretation_pipeline(model, loader_test, loader_train, width, 'mean_IntegratedGradients', 'IntegratedGradients', need_return=1)"
      ]
    },
    {
      "cell_type": "code",
      "execution_count": null,
      "metadata": {
        "id": "9qBPOYdIDowv",
        "colab": {
          "referenced_widgets": [
            "bc726b16658a4139a3afd42a089b88c5",
            "affac6a58eac4a6eb130b929a57adae5"
          ]
        },
        "outputId": "3ddf8bba-c0c3-4157-d704-ad4217e0bdc3"
      },
      "outputs": [
        {
          "data": {
            "application/vnd.jupyter.widget-view+json": {
              "model_id": "bc726b16658a4139a3afd42a089b88c5",
              "version_major": 2,
              "version_minor": 0
            },
            "text/plain": [
              "  0%|          | 0/36160 [00:00<?, ?it/s]"
            ]
          },
          "metadata": {},
          "output_type": "display_data"
        },
        {
          "data": {
            "application/vnd.jupyter.widget-view+json": {
              "model_id": "affac6a58eac4a6eb130b929a57adae5",
              "version_major": 2,
              "version_minor": 0
            },
            "text/plain": [
              "  0%|          | 0/9041 [00:00<?, ?it/s]"
            ]
          },
          "metadata": {},
          "output_type": "display_data"
        },
        {
          "name": "stdout",
          "output_type": "stream",
          "text": [
            "done interpretation\n",
            "Averaged tensor shape: torch.Size([1950])\n",
            "Averaged tensor: tensor([-3.6229,  4.1320,  4.5062,  ..., -0.4396, -3.3738,  0.4619],\n",
            "       dtype=torch.float64)\n",
            "Interpretation result is an averaged tensor. It is saved as:\n",
            "mean_Deconvolution.pt\n"
          ]
        }
      ],
      "source": [
        "mean_DEC = cnn_interpretation_pipeline(model, loader_test, loader_train, width, 'mean_Deconvolution', 'Deconvolution', need_return=1)"
      ]
    },
    {
      "cell_type": "code",
      "execution_count": null,
      "metadata": {
        "id": "alzassmxDqMa",
        "colab": {
          "referenced_widgets": [
            "c334c6ae351f49b6a1483c2944c726a5",
            "a5a7298e46f24745b699da3ba2147678"
          ]
        },
        "outputId": "e633feee-bfc3-40ad-8d35-702341b15a8e"
      },
      "outputs": [
        {
          "data": {
            "application/vnd.jupyter.widget-view+json": {
              "model_id": "c334c6ae351f49b6a1483c2944c726a5",
              "version_major": 2,
              "version_minor": 0
            },
            "text/plain": [
              "  0%|          | 0/36160 [00:00<?, ?it/s]"
            ]
          },
          "metadata": {},
          "output_type": "display_data"
        },
        {
          "data": {
            "application/vnd.jupyter.widget-view+json": {
              "model_id": "a5a7298e46f24745b699da3ba2147678",
              "version_major": 2,
              "version_minor": 0
            },
            "text/plain": [
              "  0%|          | 0/9041 [00:00<?, ?it/s]"
            ]
          },
          "metadata": {},
          "output_type": "display_data"
        },
        {
          "name": "stdout",
          "output_type": "stream",
          "text": [
            "done interpretation\n",
            "Averaged tensor shape: torch.Size([1950])\n",
            "Averaged tensor: tensor([-1.0410e-01,  3.7796e-01,  5.2939e-03,  ...,  0.0000e+00,\n",
            "         7.7874e-05,  4.7875e-07], dtype=torch.float64)\n",
            "Interpretation result is an averaged tensor. It is saved as:\n",
            "mean_InputXGradient.pt\n"
          ]
        }
      ],
      "source": [
        "mean_IXG = cnn_interpretation_pipeline(model, loader_test, loader_train, width, 'mean_InputXGradient', 'InputXGradient', need_return=1)"
      ]
    },
    {
      "cell_type": "markdown",
      "metadata": {
        "id": "0ETV44fAEJDT"
      },
      "source": [
        "## Ranking"
      ]
    },
    {
      "cell_type": "code",
      "execution_count": null,
      "metadata": {
        "id": "fpVGRNVk73-z"
      },
      "outputs": [],
      "source": [
        "# in our features data first 4 indices correspond to ACTG\n",
        "# as we are interested in omics data, we will remove ACTG before feature ranking\n",
        "\n",
        "mean_IG = mean_IG[4:]\n",
        "mean_IXG = mean_IXG[4:]\n",
        "mean_DEC = mean_DEC[4:]\n",
        "mean_GB = mean_GB[4:]"
      ]
    },
    {
      "cell_type": "code",
      "execution_count": null,
      "metadata": {
        "id": "maSFWUWYDsJk"
      },
      "outputs": [],
      "source": [
        "features_weights = {'IG' : mean_IG, 'IXG' : mean_IXG, 'DEC' : mean_DEC, 'GB' : mean_GB}\n",
        "features_weights = pd.DataFrame(features_weights)"
      ]
    },
    {
      "cell_type": "code",
      "execution_count": null,
      "metadata": {
        "id": "6-bV0FdNMUVW",
        "outputId": "25e3cd4a-cc5a-4d54-b427-ed0a1c271dfe"
      },
      "outputs": [
        {
          "data": {
            "text/html": [
              "<div>\n",
              "<style scoped>\n",
              "    .dataframe tbody tr th:only-of-type {\n",
              "        vertical-align: middle;\n",
              "    }\n",
              "\n",
              "    .dataframe tbody tr th {\n",
              "        vertical-align: top;\n",
              "    }\n",
              "\n",
              "    .dataframe thead th {\n",
              "        text-align: right;\n",
              "    }\n",
              "</style>\n",
              "<table border=\"1\" class=\"dataframe\">\n",
              "  <thead>\n",
              "    <tr style=\"text-align: right;\">\n",
              "      <th></th>\n",
              "      <th>IG</th>\n",
              "      <th>IXG</th>\n",
              "      <th>DEC</th>\n",
              "      <th>GB</th>\n",
              "    </tr>\n",
              "  </thead>\n",
              "  <tbody>\n",
              "    <tr>\n",
              "      <th>0</th>\n",
              "      <td>-8.214454e-03</td>\n",
              "      <td>-0.010688</td>\n",
              "      <td>3.919184</td>\n",
              "      <td>-0.000150</td>\n",
              "    </tr>\n",
              "    <tr>\n",
              "      <th>1</th>\n",
              "      <td>-1.275051e-02</td>\n",
              "      <td>-0.006882</td>\n",
              "      <td>2.811056</td>\n",
              "      <td>0.000245</td>\n",
              "    </tr>\n",
              "    <tr>\n",
              "      <th>2</th>\n",
              "      <td>5.338189e-07</td>\n",
              "      <td>0.000001</td>\n",
              "      <td>1.209194</td>\n",
              "      <td>-0.002471</td>\n",
              "    </tr>\n",
              "    <tr>\n",
              "      <th>3</th>\n",
              "      <td>-8.770335e-04</td>\n",
              "      <td>-0.000180</td>\n",
              "      <td>0.042775</td>\n",
              "      <td>-0.003220</td>\n",
              "    </tr>\n",
              "    <tr>\n",
              "      <th>4</th>\n",
              "      <td>-8.980475e-04</td>\n",
              "      <td>-0.000385</td>\n",
              "      <td>-0.445984</td>\n",
              "      <td>-0.002381</td>\n",
              "    </tr>\n",
              "  </tbody>\n",
              "</table>\n",
              "</div>"
            ],
            "text/plain": [
              "             IG       IXG       DEC        GB\n",
              "0 -8.214454e-03 -0.010688  3.919184 -0.000150\n",
              "1 -1.275051e-02 -0.006882  2.811056  0.000245\n",
              "2  5.338189e-07  0.000001  1.209194 -0.002471\n",
              "3 -8.770335e-04 -0.000180  0.042775 -0.003220\n",
              "4 -8.980475e-04 -0.000385 -0.445984 -0.002381"
            ]
          },
          "execution_count": 79,
          "metadata": {},
          "output_type": "execute_result"
        }
      ],
      "source": [
        "features_weights.head()"
      ]
    },
    {
      "cell_type": "code",
      "execution_count": null,
      "metadata": {
        "id": "4Bb4aHZuDr6K"
      },
      "outputs": [],
      "source": [
        "features_range = get_ranked_features(features_weights)"
      ]
    },
    {
      "cell_type": "code",
      "execution_count": null,
      "metadata": {
        "id": "AVkEVDr8DrlY",
        "outputId": "ced0c7ef-b819-40ae-e9b3-09ad21b668cd"
      },
      "outputs": [
        {
          "data": {
            "text/html": [
              "<div>\n",
              "<style scoped>\n",
              "    .dataframe tbody tr th:only-of-type {\n",
              "        vertical-align: middle;\n",
              "    }\n",
              "\n",
              "    .dataframe tbody tr th {\n",
              "        vertical-align: top;\n",
              "    }\n",
              "\n",
              "    .dataframe thead th {\n",
              "        text-align: right;\n",
              "    }\n",
              "</style>\n",
              "<table border=\"1\" class=\"dataframe\">\n",
              "  <thead>\n",
              "    <tr style=\"text-align: right;\">\n",
              "      <th></th>\n",
              "      <th>mean_deviation</th>\n",
              "    </tr>\n",
              "  </thead>\n",
              "  <tbody>\n",
              "    <tr>\n",
              "      <th>156</th>\n",
              "      <td>8656.463769</td>\n",
              "    </tr>\n",
              "    <tr>\n",
              "      <th>224</th>\n",
              "      <td>6624.349218</td>\n",
              "    </tr>\n",
              "    <tr>\n",
              "      <th>154</th>\n",
              "      <td>5420.645935</td>\n",
              "    </tr>\n",
              "    <tr>\n",
              "      <th>1906</th>\n",
              "      <td>4785.461202</td>\n",
              "    </tr>\n",
              "    <tr>\n",
              "      <th>699</th>\n",
              "      <td>4717.273185</td>\n",
              "    </tr>\n",
              "  </tbody>\n",
              "</table>\n",
              "</div>"
            ],
            "text/plain": [
              "      mean_deviation\n",
              "156      8656.463769\n",
              "224      6624.349218\n",
              "154      5420.645935\n",
              "1906     4785.461202\n",
              "699      4717.273185"
            ]
          },
          "execution_count": 81,
          "metadata": {},
          "output_type": "execute_result"
        }
      ],
      "source": [
        "features_range.head()"
      ]
    },
    {
      "cell_type": "markdown",
      "metadata": {
        "id": "L6YXn1RtElAm"
      },
      "source": [
        "## Load Extracted Features"
      ]
    },
    {
      "cell_type": "code",
      "execution_count": null,
      "metadata": {
        "id": "HJmNVw2eEkto"
      },
      "outputs": [],
      "source": [
        "features = [i[:-4] for i in os.listdir('z_dna/hg38_features/sparse/') if i.endswith('.pkl')]\n",
        "feature_names = [i for i in features]\n",
        "\n",
        "# the number of extracted features\n",
        "top_count = 100\n",
        "features_top = features_range.iloc[:top_count].index.tolist()\n",
        "\n",
        "top = []\n",
        "for index in features_top:\n",
        "    top.append(features[index])\n",
        "\n",
        "\n",
        "features = top\n",
        "feature_names = [i for i in features]"
      ]
    },
    {
      "cell_type": "code",
      "execution_count": null,
      "metadata": {
        "id": "bDECYJMuEkjW",
        "colab": {
          "referenced_widgets": [
            "b4227654ec2b4871b7436b7ab4d34c37"
          ]
        },
        "outputId": "63b6d57c-5ed6-46ee-d836-0611dbb66e90"
      },
      "outputs": [
        {
          "data": {
            "application/vnd.jupyter.widget-view+json": {
              "model_id": "b4227654ec2b4871b7436b7ab4d34c37",
              "version_major": 2,
              "version_minor": 0
            },
            "text/plain": [
              "  0%|          | 0/100 [00:00<?, ?it/s]"
            ]
          },
          "metadata": {},
          "output_type": "display_data"
        }
      ],
      "source": [
        "DNA_features = {feature: load(f'z_dna/hg38_features/sparse/{feature}.pkl')\n",
        "                for feature in tqdm(feature_names)}"
      ]
    },
    {
      "cell_type": "code",
      "execution_count": null,
      "metadata": {
        "id": "GFGsavj4Ekdv"
      },
      "outputs": [],
      "source": [
        "np.random.seed(10)\n",
        "\n",
        "width = 100\n",
        "\n",
        "train_dataset, test_dataset = get_train_test_dataset(width, chroms, feature_names, DNA, DNA_features, ZDNA)"
      ]
    },
    {
      "cell_type": "code",
      "execution_count": null,
      "metadata": {
        "id": "klIqQKcjFYx1"
      },
      "outputs": [],
      "source": [
        "np.random.seed(42)\n",
        "params = {'batch_size':32,\n",
        "          'num_workers':4,\n",
        "          'shuffle':True}\n",
        "\n",
        "loader_train = data.DataLoader(train_dataset, **params)\n",
        "loader_test = data.DataLoader(test_dataset, **params)"
      ]
    },
    {
      "cell_type": "markdown",
      "metadata": {
        "id": "JTi4tgZxFbnh"
      },
      "source": [
        "## Train Model On New Features"
      ]
    },
    {
      "cell_type": "code",
      "execution_count": null,
      "metadata": {
        "id": "cmpzpgExFbN6"
      },
      "outputs": [],
      "source": [
        "set_random_seed(42)\n",
        "torch.cuda.empty_cache()\n",
        "\n",
        "with torch.cuda.device(device):\n",
        "    model = DeepCNN_12_layers(width, top_count)\n",
        "    model = model.to(device)"
      ]
    },
    {
      "cell_type": "code",
      "execution_count": null,
      "metadata": {
        "id": "-To4s5ygFnZQ",
        "outputId": "0fb116a6-b989-475c-cf4a-b824de6197d6"
      },
      "outputs": [
        {
          "data": {
            "image/png": "[encoded data removed]",
            "text/plain": [
              "<Figure size 2000x400 with 1 Axes>"
            ]
          },
          "metadata": {},
          "output_type": "display_data"
        },
        {
          "data": {
            "image/png": "[encoded data removed]",
            "text/plain": [
              "<Figure size 2000x400 with 1 Axes>"
            ]
          },
          "metadata": {},
          "output_type": "display_data"
        },
        {
          "data": {
            "image/png": "[encoded data removed]",
            "text/plain": [
              "<Figure size 2000x400 with 1 Axes>"
            ]
          },
          "metadata": {},
          "output_type": "display_data"
        },
        {
          "data": {
            "image/png": "[encoded data removed]",
            "text/plain": [
              "<Figure size 2000x400 with 1 Axes>"
            ]
          },
          "metadata": {},
          "output_type": "display_data"
        },
        {
          "name": "stdout",
          "output_type": "stream",
          "text": [
            "Time:  29026148.58878406\n",
            "Epoch 1: ROC-AUC = 97.30%\n",
            "Epoch 1: Precision = 0.893\n",
            "Epoch 1: Recall = 0.822\n",
            "Epoch 1: F1-score = 0.855\n",
            "Final ROC-AUC = 97.3%\n",
            "Final Precision = 0.893\n",
            "Final Recall = 0.822\n",
            "Final F1-score = 0.855\n"
          ]
        }
      ],
      "source": [
        "n_epochs = 1\n",
        "opt = torch.optim.RMSprop(model.parameters(), lr=10**-4, weight_decay=10**-4)\n",
        "\n",
        "val_auc_log, val_pr_log, val_rec_log, val_f1_log, val_acc_log, val_loss_log, times, best_models = train(model, opt, n_epochs, loader_train, loader_test)"
      ]
    },
    {
      "cell_type": "code",
      "execution_count": null,
      "metadata": {
        "id": "wrUSLReLFvKZ",
        "outputId": "69ffd104-f66b-458b-f078-f29a323abd19"
      },
      "outputs": [
        {
          "name": "stdout",
          "output_type": "stream",
          "text": [
            "Epoch 0\n",
            "Max F1-score: 85.5458%\n",
            "ROC-AUC: 97.2985%\n",
            "Precision: 0.8935\n",
            "Recall: 0.8220\n",
            "Mean time for 1 epoch 3.46 minutes\n"
          ]
        }
      ],
      "source": [
        "print(\"Epoch {}\".format(np.argmax(val_f1_log)))\n",
        "print(\"Max F1-score: {:.4f}%\".format(val_f1_log[np.argmax(val_f1_log)]*100))\n",
        "print(\"ROC-AUC: {:.4f}%\".format(val_auc_log[np.argmax(val_f1_log)]*100))\n",
        "print(\"Precision: {:.4f}\".format(val_pr_log[np.argmax(val_f1_log)]))\n",
        "print(\"Recall: {:.4f}\".format(val_rec_log[np.argmax(val_f1_log)]))\n",
        "\n",
        "print(\"Mean time for 1 epoch {:.2f} minutes\".format(np.mean(times) / 60))"
      ]
    },
    {
      "cell_type": "code",
      "execution_count": null,
      "metadata": {
        "id": "i0udb-qU73-4"
      },
      "outputs": [],
      "source": []
    }
  ],
  "metadata": {
    "accelerator": "GPU",
    "colab": {
      "collapsed_sections": [
        "OH-kcRxTZC8l"
      ],
      "gpuType": "T4",
      "provenance": []
    },
    "kernelspec": {
      "display_name": "Python 2",
      "language": "python",
      "name": "python2"
    },
    "language_info": {
      "codemirror_mode": {
        "name": "ipython",
        "version": 3
      },
      "file_extension": ".py",
      "mimetype": "text/x-python",
      "name": "python",
      "nbconvert_exporter": "python",
      "pygments_lexer": "ipython3",
      "version": "3.11.4"
    },
    "widgets": {
      "application/vnd.jupyter.widget-state+json": {
        "0a99ea4377734a9f8c79085f99228a4b": {
          "model_module": "@jupyter-widgets/base",
          "model_module_version": "1.2.0",
          "model_name": "LayoutModel",
          "state": {
            "_model_module": "@jupyter-widgets/base",
            "_model_module_version": "1.2.0",
            "_model_name": "LayoutModel",
            "_view_count": null,
            "_view_module": "@jupyter-widgets/base",
            "_view_module_version": "1.2.0",
            "_view_name": "LayoutView",
            "align_content": null,
            "align_items": null,
            "align_self": null,
            "border": null,
            "bottom": null,
            "display": null,
            "flex": null,
            "flex_flow": null,
            "grid_area": null,
            "grid_auto_columns": null,
            "grid_auto_flow": null,
            "grid_auto_rows": null,
            "grid_column": null,
            "grid_gap": null,
            "grid_row": null,
            "grid_template_areas": null,
            "grid_template_columns": null,
            "grid_template_rows": null,
            "height": null,
            "justify_content": null,
            "justify_items": null,
            "left": null,
            "margin": null,
            "max_height": null,
            "max_width": null,
            "min_height": null,
            "min_width": null,
            "object_fit": null,
            "object_position": null,
            "order": null,
            "overflow": null,
            "overflow_x": null,
            "overflow_y": null,
            "padding": null,
            "right": null,
            "top": null,
            "visibility": null,
            "width": null
          }
        },
        "0b5caa7a7ec54efdbaf6d7ffa367fec5": {
          "model_module": "@jupyter-widgets/controls",
          "model_module_version": "1.5.0",
          "model_name": "DescriptionStyleModel",
          "state": {
            "_model_module": "@jupyter-widgets/controls",
            "_model_module_version": "1.5.0",
            "_model_name": "DescriptionStyleModel",
            "_view_count": null,
            "_view_module": "@jupyter-widgets/base",
            "_view_module_version": "1.2.0",
            "_view_name": "StyleView",
            "description_width": ""
          }
        },
        "0d48a360e93d43999725ed2da29dac94": {
          "model_module": "@jupyter-widgets/base",
          "model_module_version": "1.2.0",
          "model_name": "LayoutModel",
          "state": {
            "_model_module": "@jupyter-widgets/base",
            "_model_module_version": "1.2.0",
            "_model_name": "LayoutModel",
            "_view_count": null,
            "_view_module": "@jupyter-widgets/base",
            "_view_module_version": "1.2.0",
            "_view_name": "LayoutView",
            "align_content": null,
            "align_items": null,
            "align_self": null,
            "border": null,
            "bottom": null,
            "display": null,
            "flex": null,
            "flex_flow": null,
            "grid_area": null,
            "grid_auto_columns": null,
            "grid_auto_flow": null,
            "grid_auto_rows": null,
            "grid_column": null,
            "grid_gap": null,
            "grid_row": null,
            "grid_template_areas": null,
            "grid_template_columns": null,
            "grid_template_rows": null,
            "height": null,
            "justify_content": null,
            "justify_items": null,
            "left": null,
            "margin": null,
            "max_height": null,
            "max_width": null,
            "min_height": null,
            "min_width": null,
            "object_fit": null,
            "object_position": null,
            "order": null,
            "overflow": null,
            "overflow_x": null,
            "overflow_y": null,
            "padding": null,
            "right": null,
            "top": null,
            "visibility": null,
            "width": null
          }
        },
        "0e60d1ee5fc74c23b3f5294b13bc2c31": {
          "model_module": "@jupyter-widgets/controls",
          "model_module_version": "1.5.0",
          "model_name": "HBoxModel",
          "state": {
            "_dom_classes": [],
            "_model_module": "@jupyter-widgets/controls",
            "_model_module_version": "1.5.0",
            "_model_name": "HBoxModel",
            "_view_count": null,
            "_view_module": "@jupyter-widgets/controls",
            "_view_module_version": "1.5.0",
            "_view_name": "HBoxView",
            "box_style": "",
            "children": [
              "IPY_MODEL_cfce85a0a80243f1853288303d77f629",
              "IPY_MODEL_16273a95d7a34ba9bd8aac632bb5d79f",
              "IPY_MODEL_c6d01735dedc488faecfe7e9f3dd94ff"
            ],
            "layout": "IPY_MODEL_0a99ea4377734a9f8c79085f99228a4b"
          }
        },
        "15c64c96315e48faa53db2ef6f50b851": {
          "model_module": "@jupyter-widgets/base",
          "model_module_version": "1.2.0",
          "model_name": "LayoutModel",
          "state": {
            "_model_module": "@jupyter-widgets/base",
            "_model_module_version": "1.2.0",
            "_model_name": "LayoutModel",
            "_view_count": null,
            "_view_module": "@jupyter-widgets/base",
            "_view_module_version": "1.2.0",
            "_view_name": "LayoutView",
            "align_content": null,
            "align_items": null,
            "align_self": null,
            "border": null,
            "bottom": null,
            "display": null,
            "flex": null,
            "flex_flow": null,
            "grid_area": null,
            "grid_auto_columns": null,
            "grid_auto_flow": null,
            "grid_auto_rows": null,
            "grid_column": null,
            "grid_gap": null,
            "grid_row": null,
            "grid_template_areas": null,
            "grid_template_columns": null,
            "grid_template_rows": null,
            "height": null,
            "justify_content": null,
            "justify_items": null,
            "left": null,
            "margin": null,
            "max_height": null,
            "max_width": null,
            "min_height": null,
            "min_width": null,
            "object_fit": null,
            "object_position": null,
            "order": null,
            "overflow": null,
            "overflow_x": null,
            "overflow_y": null,
            "padding": null,
            "right": null,
            "top": null,
            "visibility": null,
            "width": null
          }
        },
        "16273a95d7a34ba9bd8aac632bb5d79f": {
          "model_module": "@jupyter-widgets/controls",
          "model_module_version": "1.5.0",
          "model_name": "FloatProgressModel",
          "state": {
            "_dom_classes": [],
            "_model_module": "@jupyter-widgets/controls",
            "_model_module_version": "1.5.0",
            "_model_name": "FloatProgressModel",
            "_view_count": null,
            "_view_module": "@jupyter-widgets/controls",
            "_view_module_version": "1.5.0",
            "_view_name": "ProgressView",
            "bar_style": "success",
            "description": "",
            "description_tooltip": null,
            "layout": "IPY_MODEL_15c64c96315e48faa53db2ef6f50b851",
            "max": 25,
            "min": 0,
            "orientation": "horizontal",
            "style": "IPY_MODEL_e0f6e5a994524e089ebb2233683fe8b7",
            "value": 25
          }
        },
        "1d1c58fe0312400f9af0b65d8b91eca5": {
          "model_module": "@jupyter-widgets/base",
          "model_module_version": "1.2.0",
          "model_name": "LayoutModel",
          "state": {
            "_model_module": "@jupyter-widgets/base",
            "_model_module_version": "1.2.0",
            "_model_name": "LayoutModel",
            "_view_count": null,
            "_view_module": "@jupyter-widgets/base",
            "_view_module_version": "1.2.0",
            "_view_name": "LayoutView",
            "align_content": null,
            "align_items": null,
            "align_self": null,
            "border": null,
            "bottom": null,
            "display": null,
            "flex": null,
            "flex_flow": null,
            "grid_area": null,
            "grid_auto_columns": null,
            "grid_auto_flow": null,
            "grid_auto_rows": null,
            "grid_column": null,
            "grid_gap": null,
            "grid_row": null,
            "grid_template_areas": null,
            "grid_template_columns": null,
            "grid_template_rows": null,
            "height": null,
            "justify_content": null,
            "justify_items": null,
            "left": null,
            "margin": null,
            "max_height": null,
            "max_width": null,
            "min_height": null,
            "min_width": null,
            "object_fit": null,
            "object_position": null,
            "order": null,
            "overflow": null,
            "overflow_x": null,
            "overflow_y": null,
            "padding": null,
            "right": null,
            "top": null,
            "visibility": null,
            "width": null
          }
        },
        "295f3c0f88304bea97bc5d2e21bc9e89": {
          "model_module": "@jupyter-widgets/base",
          "model_module_version": "1.2.0",
          "model_name": "LayoutModel",
          "state": {
            "_model_module": "@jupyter-widgets/base",
            "_model_module_version": "1.2.0",
            "_model_name": "LayoutModel",
            "_view_count": null,
            "_view_module": "@jupyter-widgets/base",
            "_view_module_version": "1.2.0",
            "_view_name": "LayoutView",
            "align_content": null,
            "align_items": null,
            "align_self": null,
            "border": null,
            "bottom": null,
            "display": null,
            "flex": null,
            "flex_flow": null,
            "grid_area": null,
            "grid_auto_columns": null,
            "grid_auto_flow": null,
            "grid_auto_rows": null,
            "grid_column": null,
            "grid_gap": null,
            "grid_row": null,
            "grid_template_areas": null,
            "grid_template_columns": null,
            "grid_template_rows": null,
            "height": null,
            "justify_content": null,
            "justify_items": null,
            "left": null,
            "margin": null,
            "max_height": null,
            "max_width": null,
            "min_height": null,
            "min_width": null,
            "object_fit": null,
            "object_position": null,
            "order": null,
            "overflow": null,
            "overflow_x": null,
            "overflow_y": null,
            "padding": null,
            "right": null,
            "top": null,
            "visibility": null,
            "width": null
          }
        },
        "39db6d9113f14c8f8d55e6e656bdfcfa": {
          "model_module": "@jupyter-widgets/controls",
          "model_module_version": "1.5.0",
          "model_name": "HTMLModel",
          "state": {
            "_dom_classes": [],
            "_model_module": "@jupyter-widgets/controls",
            "_model_module_version": "1.5.0",
            "_model_name": "HTMLModel",
            "_view_count": null,
            "_view_module": "@jupyter-widgets/controls",
            "_view_module_version": "1.5.0",
            "_view_name": "HTMLView",
            "description": "",
            "description_tooltip": null,
            "layout": "IPY_MODEL_0d48a360e93d43999725ed2da29dac94",
            "placeholder": "​",
            "style": "IPY_MODEL_d6c0250095034aa7b608c188cc76a0cc",
            "value": "100%"
          }
        },
        "4367886b8e7e40adb5eb8692e649aff5": {
          "model_module": "@jupyter-widgets/controls",
          "model_module_version": "1.5.0",
          "model_name": "DescriptionStyleModel",
          "state": {
            "_model_module": "@jupyter-widgets/controls",
            "_model_module_version": "1.5.0",
            "_model_name": "DescriptionStyleModel",
            "_view_count": null,
            "_view_module": "@jupyter-widgets/base",
            "_view_module_version": "1.2.0",
            "_view_name": "StyleView",
            "description_width": ""
          }
        },
        "567e7d67e988418b95b6b73e343e1382": {
          "model_module": "@jupyter-widgets/controls",
          "model_module_version": "1.5.0",
          "model_name": "HTMLModel",
          "state": {
            "_dom_classes": [],
            "_model_module": "@jupyter-widgets/controls",
            "_model_module_version": "1.5.0",
            "_model_name": "HTMLModel",
            "_view_count": null,
            "_view_module": "@jupyter-widgets/controls",
            "_view_module_version": "1.5.0",
            "_view_name": "HTMLView",
            "description": "",
            "description_tooltip": null,
            "layout": "IPY_MODEL_295f3c0f88304bea97bc5d2e21bc9e89",
            "placeholder": "​",
            "style": "IPY_MODEL_4367886b8e7e40adb5eb8692e649aff5",
            "value": " 1946/1946 [01:38&lt;00:00, 20.72it/s]"
          }
        },
        "5b4729557ea14bd4b69a2692d065c1c8": {
          "model_module": "@jupyter-widgets/base",
          "model_module_version": "1.2.0",
          "model_name": "LayoutModel",
          "state": {
            "_model_module": "@jupyter-widgets/base",
            "_model_module_version": "1.2.0",
            "_model_name": "LayoutModel",
            "_view_count": null,
            "_view_module": "@jupyter-widgets/base",
            "_view_module_version": "1.2.0",
            "_view_name": "LayoutView",
            "align_content": null,
            "align_items": null,
            "align_self": null,
            "border": null,
            "bottom": null,
            "display": null,
            "flex": null,
            "flex_flow": null,
            "grid_area": null,
            "grid_auto_columns": null,
            "grid_auto_flow": null,
            "grid_auto_rows": null,
            "grid_column": null,
            "grid_gap": null,
            "grid_row": null,
            "grid_template_areas": null,
            "grid_template_columns": null,
            "grid_template_rows": null,
            "height": null,
            "justify_content": null,
            "justify_items": null,
            "left": null,
            "margin": null,
            "max_height": null,
            "max_width": null,
            "min_height": null,
            "min_width": null,
            "object_fit": null,
            "object_position": null,
            "order": null,
            "overflow": null,
            "overflow_x": null,
            "overflow_y": null,
            "padding": null,
            "right": null,
            "top": null,
            "visibility": null,
            "width": null
          }
        },
        "732526c2dfe14326832a2fb86db6d6e3": {
          "model_module": "@jupyter-widgets/controls",
          "model_module_version": "1.5.0",
          "model_name": "FloatProgressModel",
          "state": {
            "_dom_classes": [],
            "_model_module": "@jupyter-widgets/controls",
            "_model_module_version": "1.5.0",
            "_model_name": "FloatProgressModel",
            "_view_count": null,
            "_view_module": "@jupyter-widgets/controls",
            "_view_module_version": "1.5.0",
            "_view_name": "ProgressView",
            "bar_style": "success",
            "description": "",
            "description_tooltip": null,
            "layout": "IPY_MODEL_90109e07fdb0461faf6212e26525c415",
            "max": 1946,
            "min": 0,
            "orientation": "horizontal",
            "style": "IPY_MODEL_8da87fd0e1504ab4b7ed512716ccf5f0",
            "value": 1946
          }
        },
        "8da87fd0e1504ab4b7ed512716ccf5f0": {
          "model_module": "@jupyter-widgets/controls",
          "model_module_version": "1.5.0",
          "model_name": "ProgressStyleModel",
          "state": {
            "_model_module": "@jupyter-widgets/controls",
            "_model_module_version": "1.5.0",
            "_model_name": "ProgressStyleModel",
            "_view_count": null,
            "_view_module": "@jupyter-widgets/base",
            "_view_module_version": "1.2.0",
            "_view_name": "StyleView",
            "bar_color": null,
            "description_width": ""
          }
        },
        "90109e07fdb0461faf6212e26525c415": {
          "model_module": "@jupyter-widgets/base",
          "model_module_version": "1.2.0",
          "model_name": "LayoutModel",
          "state": {
            "_model_module": "@jupyter-widgets/base",
            "_model_module_version": "1.2.0",
            "_model_name": "LayoutModel",
            "_view_count": null,
            "_view_module": "@jupyter-widgets/base",
            "_view_module_version": "1.2.0",
            "_view_name": "LayoutView",
            "align_content": null,
            "align_items": null,
            "align_self": null,
            "border": null,
            "bottom": null,
            "display": null,
            "flex": null,
            "flex_flow": null,
            "grid_area": null,
            "grid_auto_columns": null,
            "grid_auto_flow": null,
            "grid_auto_rows": null,
            "grid_column": null,
            "grid_gap": null,
            "grid_row": null,
            "grid_template_areas": null,
            "grid_template_columns": null,
            "grid_template_rows": null,
            "height": null,
            "justify_content": null,
            "justify_items": null,
            "left": null,
            "margin": null,
            "max_height": null,
            "max_width": null,
            "min_height": null,
            "min_width": null,
            "object_fit": null,
            "object_position": null,
            "order": null,
            "overflow": null,
            "overflow_x": null,
            "overflow_y": null,
            "padding": null,
            "right": null,
            "top": null,
            "visibility": null,
            "width": null
          }
        },
        "919d9f6ef2e64fe6816fc946681661d2": {
          "model_module": "@jupyter-widgets/controls",
          "model_module_version": "1.5.0",
          "model_name": "HBoxModel",
          "state": {
            "_dom_classes": [],
            "_model_module": "@jupyter-widgets/controls",
            "_model_module_version": "1.5.0",
            "_model_name": "HBoxModel",
            "_view_count": null,
            "_view_module": "@jupyter-widgets/controls",
            "_view_module_version": "1.5.0",
            "_view_name": "HBoxView",
            "box_style": "",
            "children": [
              "IPY_MODEL_39db6d9113f14c8f8d55e6e656bdfcfa",
              "IPY_MODEL_732526c2dfe14326832a2fb86db6d6e3",
              "IPY_MODEL_567e7d67e988418b95b6b73e343e1382"
            ],
            "layout": "IPY_MODEL_fe7702d447b04fd7a338365fdb5b2f99"
          }
        },
        "ad68264b1fe9447c97be4fdb2cfc5672": {
          "model_module": "@jupyter-widgets/controls",
          "model_module_version": "1.5.0",
          "model_name": "DescriptionStyleModel",
          "state": {
            "_model_module": "@jupyter-widgets/controls",
            "_model_module_version": "1.5.0",
            "_model_name": "DescriptionStyleModel",
            "_view_count": null,
            "_view_module": "@jupyter-widgets/base",
            "_view_module_version": "1.2.0",
            "_view_name": "StyleView",
            "description_width": ""
          }
        },
        "c6d01735dedc488faecfe7e9f3dd94ff": {
          "model_module": "@jupyter-widgets/controls",
          "model_module_version": "1.5.0",
          "model_name": "HTMLModel",
          "state": {
            "_dom_classes": [],
            "_model_module": "@jupyter-widgets/controls",
            "_model_module_version": "1.5.0",
            "_model_name": "HTMLModel",
            "_view_count": null,
            "_view_module": "@jupyter-widgets/controls",
            "_view_module_version": "1.5.0",
            "_view_name": "HTMLView",
            "description": "",
            "description_tooltip": null,
            "layout": "IPY_MODEL_1d1c58fe0312400f9af0b65d8b91eca5",
            "placeholder": "​",
            "style": "IPY_MODEL_ad68264b1fe9447c97be4fdb2cfc5672",
            "value": " 25/25 [00:22&lt;00:00,  1.70it/s]"
          }
        },
        "cfce85a0a80243f1853288303d77f629": {
          "model_module": "@jupyter-widgets/controls",
          "model_module_version": "1.5.0",
          "model_name": "HTMLModel",
          "state": {
            "_dom_classes": [],
            "_model_module": "@jupyter-widgets/controls",
            "_model_module_version": "1.5.0",
            "_model_name": "HTMLModel",
            "_view_count": null,
            "_view_module": "@jupyter-widgets/controls",
            "_view_module_version": "1.5.0",
            "_view_name": "HTMLView",
            "description": "",
            "description_tooltip": null,
            "layout": "IPY_MODEL_5b4729557ea14bd4b69a2692d065c1c8",
            "placeholder": "​",
            "style": "IPY_MODEL_0b5caa7a7ec54efdbaf6d7ffa367fec5",
            "value": "100%"
          }
        },
        "d6c0250095034aa7b608c188cc76a0cc": {
          "model_module": "@jupyter-widgets/controls",
          "model_module_version": "1.5.0",
          "model_name": "DescriptionStyleModel",
          "state": {
            "_model_module": "@jupyter-widgets/controls",
            "_model_module_version": "1.5.0",
            "_model_name": "DescriptionStyleModel",
            "_view_count": null,
            "_view_module": "@jupyter-widgets/base",
            "_view_module_version": "1.2.0",
            "_view_name": "StyleView",
            "description_width": ""
          }
        },
        "e0f6e5a994524e089ebb2233683fe8b7": {
          "model_module": "@jupyter-widgets/controls",
          "model_module_version": "1.5.0",
          "model_name": "ProgressStyleModel",
          "state": {
            "_model_module": "@jupyter-widgets/controls",
            "_model_module_version": "1.5.0",
            "_model_name": "ProgressStyleModel",
            "_view_count": null,
            "_view_module": "@jupyter-widgets/base",
            "_view_module_version": "1.2.0",
            "_view_name": "StyleView",
            "bar_color": null,
            "description_width": ""
          }
        },
        "fe7702d447b04fd7a338365fdb5b2f99": {
          "model_module": "@jupyter-widgets/base",
          "model_module_version": "1.2.0",
          "model_name": "LayoutModel",
          "state": {
            "_model_module": "@jupyter-widgets/base",
            "_model_module_version": "1.2.0",
            "_model_name": "LayoutModel",
            "_view_count": null,
            "_view_module": "@jupyter-widgets/base",
            "_view_module_version": "1.2.0",
            "_view_name": "LayoutView",
            "align_content": null,
            "align_items": null,
            "align_self": null,
            "border": null,
            "bottom": null,
            "display": null,
            "flex": null,
            "flex_flow": null,
            "grid_area": null,
            "grid_auto_columns": null,
            "grid_auto_flow": null,
            "grid_auto_rows": null,
            "grid_column": null,
            "grid_gap": null,
            "grid_row": null,
            "grid_template_areas": null,
            "grid_template_columns": null,
            "grid_template_rows": null,
            "height": null,
            "justify_content": null,
            "justify_items": null,
            "left": null,
            "margin": null,
            "max_height": null,
            "max_width": null,
            "min_height": null,
            "min_width": null,
            "object_fit": null,
            "object_position": null,
            "order": null,
            "overflow": null,
            "overflow_x": null,
            "overflow_y": null,
            "padding": null,
            "right": null,
            "top": null,
            "visibility": null,
            "width": null
          }
        }
      }
    }
  },
  "nbformat": 4,
  "nbformat_minor": 0
}