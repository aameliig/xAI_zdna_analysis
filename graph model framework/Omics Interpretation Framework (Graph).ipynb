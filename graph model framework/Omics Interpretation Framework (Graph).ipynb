{
 "cells": [
  {
   "cell_type": "markdown",
   "metadata": {
    "id": "BtHFqTgMAMEQ"
   },
   "source": [
    "# Robust Genomic Feature Selection Pipeline using an Ensemble of xAI Methods"
   ]
  },
  {
   "cell_type": "markdown",
   "metadata": {
    "id": "O4BQjS0KARsR"
   },
   "source": [
    "## Imports"
   ]
  },
  {
   "cell_type": "code",
   "execution_count": null,
   "metadata": {
    "collapsed": true,
    "id": "PUvsgHBlALa4",
    "jupyter": {
     "outputs_hidden": true
    }
   },
   "outputs": [],
   "source": [
    "!git clone https://github.com/vladislareon/Sparse_vector\n",
    "!git clone https://github.com/vladislareon/z_dna"
   ]
  },
  {
   "cell_type": "code",
   "execution_count": null,
   "metadata": {
    "collapsed": true,
    "id": "aEOWr4laZC8e",
    "jupyter": {
     "outputs_hidden": true
    }
   },
   "outputs": [],
   "source": [
    "!git clone https://github.com/vladislareon/Interpretation"
   ]
  },
  {
   "cell_type": "code",
   "execution_count": null,
   "metadata": {
    "collapsed": true,
    "id": "viFiCowkrgv-",
    "jupyter": {
     "outputs_hidden": true
    }
   },
   "outputs": [],
   "source": [
    "!pip install torch"
   ]
  },
  {
   "cell_type": "code",
   "execution_count": 1,
   "metadata": {
    "id": "djZXiEt6Ad3Q"
   },
   "outputs": [],
   "source": [
    "# imports\n",
    "import os\n",
    "import numpy as np\n",
    "import pandas as pd\n",
    "\n",
    "from joblib import load\n",
    "from tqdm.notebook import tqdm\n",
    "from torch.utils import data\n",
    "\n",
    "# Graph dataset\n",
    "from torch_geometric.loader import DataLoader\n",
    "from torch_geometric.data import Dataset, Data\n",
    "\n",
    "import torch\n",
    "from torch.utils import data\n",
    "\n",
    "from Sparse_vector.sparse_vector import SparseVector\n",
    "from graph_data_preparation import chrom_reader, get_train_test_dataset_edges_graph\n",
    "from graph_train_test import set_random_seed, train\n",
    "from graph_model import GraphZSAGEConv_v5_lin\n",
    "from interpretation import graph_interpretation_pipeline, get_ranked_features\n",
    "\n",
    "\n",
    "\n",
    "device = torch.device('cuda:0' if torch.cuda.is_available() else 'cpu') "
   ]
  },
  {
   "cell_type": "markdown",
   "metadata": {
    "id": "yGXrZQJoZELp"
   },
   "source": [
    "## Data Preparation"
   ]
  },
  {
   "cell_type": "code",
   "execution_count": 2,
   "metadata": {
    "id": "ivoSIlDyZC8g"
   },
   "outputs": [],
   "source": [
    "chroms = [f'chr{i}' for i in list(range(1, 23)) + ['X', 'Y','M']]\n",
    "all_features = [i[:-4] for i in os.listdir('z_dna/hg38_features/sparse/') if i.endswith('.pkl')]\n",
    "groups = ['DNase-seq', 'Histone', 'RNA polymerase', 'TFs and others']\n",
    "feature_names = [i for i in all_features]"
   ]
  },
  {
   "cell_type": "code",
   "execution_count": 3,
   "metadata": {
    "colab": {
     "base_uri": "https://localhost:8080/",
     "height": 117,
     "referenced_widgets": [
      "0e60d1ee5fc74c23b3f5294b13bc2c31",
      "cfce85a0a80243f1853288303d77f629",
      "16273a95d7a34ba9bd8aac632bb5d79f",
      "c6d01735dedc488faecfe7e9f3dd94ff",
      "0a99ea4377734a9f8c79085f99228a4b",
      "5b4729557ea14bd4b69a2692d065c1c8",
      "0b5caa7a7ec54efdbaf6d7ffa367fec5",
      "15c64c96315e48faa53db2ef6f50b851",
      "e0f6e5a994524e089ebb2233683fe8b7",
      "1d1c58fe0312400f9af0b65d8b91eca5",
      "ad68264b1fe9447c97be4fdb2cfc5672",
      "919d9f6ef2e64fe6816fc946681661d2",
      "39db6d9113f14c8f8d55e6e656bdfcfa",
      "732526c2dfe14326832a2fb86db6d6e3",
      "567e7d67e988418b95b6b73e343e1382",
      "fe7702d447b04fd7a338365fdb5b2f99",
      "0d48a360e93d43999725ed2da29dac94",
      "d6c0250095034aa7b608c188cc76a0cc",
      "90109e07fdb0461faf6212e26525c415",
      "8da87fd0e1504ab4b7ed512716ccf5f0",
      "295f3c0f88304bea97bc5d2e21bc9e89",
      "4367886b8e7e40adb5eb8692e649aff5",
      "dcb2b3fdb1b74ea5961d0b6ec065cc67",
      "3939ddfb83194b97b8421ca8b104e819"
     ]
    },
    "id": "-uzLeN4LZC8h",
    "outputId": "bbaa5254-dda4-4cc0-99ea-91853b6eccb1"
   },
   "outputs": [
    {
     "data": {
      "application/vnd.jupyter.widget-view+json": {
       "model_id": "e8c8c6433f6e4daba3b836be703f52c2",
       "version_major": 2,
       "version_minor": 0
      },
      "text/plain": [
       "  0%|          | 0/25 [00:00<?, ?it/s]"
      ]
     },
     "metadata": {},
     "output_type": "display_data"
    },
    {
     "data": {
      "application/vnd.jupyter.widget-view+json": {
       "model_id": "37c7da1e783f41c6bf2d79bba74d7e7b",
       "version_major": 2,
       "version_minor": 0
      },
      "text/plain": [
       "  0%|          | 0/1946 [00:00<?, ?it/s]"
      ]
     },
     "metadata": {},
     "output_type": "display_data"
    },
    {
     "name": "stdout",
     "output_type": "stream",
     "text": [
      "CPU times: user 1min 19s, sys: 4.13 s, total: 1min 23s\n",
      "Wall time: 1min 23s\n"
     ]
    }
   ],
   "source": [
    "%%time\n",
    "DNA = {chrom:chrom_reader(chrom) for chrom in tqdm(chroms)}\n",
    "\n",
    "# choose ZDNA Data to load\n",
    "# ZDNA_shin = load('z_dna/hg38_zdna/sparse/ZDNA_shin.pkl')\n",
    "# ZDNA_cousine = load('z_dna/hg38_zdna/sparse/ZDNA_cousine.pkl')\n",
    "\n",
    "ZDNA = load('z_dna/hg38_zdna/sparse/ZDNA_cousine.pkl')\n",
    "\n",
    "DNA_features = {feature: load(f'z_dna/hg38_features/sparse/{feature}.pkl')\n",
    "                for feature in tqdm(feature_names)}"
   ]
  },
  {
   "cell_type": "code",
   "execution_count": 4,
   "metadata": {
    "id": "kX2VhgltZC8i"
   },
   "outputs": [
    {
     "name": "stderr",
     "output_type": "stream",
     "text": [
      "100%|█████████████████████████████████████████████████████████████████████| 2489564/2489564 [00:29<00:00, 84871.64it/s]\n",
      "100%|█████████████████████████████████████████████████████████████████████| 2421935/2421935 [00:27<00:00, 88065.02it/s]\n",
      "100%|█████████████████████████████████████████████████████████████████████| 1982955/1982955 [00:21<00:00, 90282.75it/s]\n",
      "100%|█████████████████████████████████████████████████████████████████████| 1902145/1902145 [00:21<00:00, 89470.95it/s]\n",
      "100%|█████████████████████████████████████████████████████████████████████| 1815382/1815382 [00:20<00:00, 87853.12it/s]\n",
      "100%|█████████████████████████████████████████████████████████████████████| 1708059/1708059 [00:19<00:00, 86222.87it/s]\n",
      "100%|█████████████████████████████████████████████████████████████████████| 1593459/1593459 [00:17<00:00, 93551.12it/s]\n",
      "100%|█████████████████████████████████████████████████████████████████████| 1451386/1451386 [00:17<00:00, 84239.94it/s]\n",
      "100%|█████████████████████████████████████████████████████████████████████| 1383947/1383947 [00:14<00:00, 93090.20it/s]\n",
      "100%|█████████████████████████████████████████████████████████████████████| 1337974/1337974 [00:14<00:00, 92877.60it/s]\n",
      "100%|█████████████████████████████████████████████████████████████████████| 1350866/1350866 [00:16<00:00, 82431.36it/s]\n",
      "100%|█████████████████████████████████████████████████████████████████████| 1332753/1332753 [00:14<00:00, 90866.02it/s]\n",
      "100%|█████████████████████████████████████████████████████████████████████| 1143643/1143643 [00:12<00:00, 92737.95it/s]\n",
      "100%|█████████████████████████████████████████████████████████████████████| 1070437/1070437 [00:11<00:00, 90403.82it/s]\n",
      "100%|█████████████████████████████████████████████████████████████████████| 1019911/1019911 [00:13<00:00, 75931.47it/s]\n",
      "100%|███████████████████████████████████████████████████████████████████████| 903383/903383 [00:09<00:00, 93943.39it/s]\n",
      "100%|███████████████████████████████████████████████████████████████████████| 832574/832574 [00:08<00:00, 93922.93it/s]\n",
      "100%|███████████████████████████████████████████████████████████████████████| 803732/803732 [00:08<00:00, 93058.60it/s]\n",
      "100%|███████████████████████████████████████████████████████████████████████| 586176/586176 [00:06<00:00, 93106.00it/s]\n",
      "100%|███████████████████████████████████████████████████████████████████████| 644441/644441 [00:06<00:00, 93013.36it/s]\n",
      "100%|███████████████████████████████████████████████████████████████████████| 467099/467099 [00:04<00:00, 96032.87it/s]\n",
      "100%|███████████████████████████████████████████████████████████████████████| 508184/508184 [00:05<00:00, 94370.02it/s]\n",
      "100%|█████████████████████████████████████████████████████████████████████| 1560408/1560408 [00:19<00:00, 81277.69it/s]\n",
      "100%|███████████████████████████████████████████████████████████████████████| 572274/572274 [00:05<00:00, 95692.21it/s]\n",
      "100%|█████████████████████████████████████████████████████████████████████████████| 165/165 [00:00<00:00, 69275.29it/s]\n"
     ]
    }
   ],
   "source": [
    "np.random.seed(10)\n",
    "\n",
    "# recommended width of the interval = 100\n",
    "width = 100\n",
    "\n",
    "train_dataset, test_dataset, edges = get_train_test_dataset_edges_graph(width, chroms, feature_names, DNA, DNA_features, ZDNA)"
   ]
  },
  {
   "cell_type": "code",
   "execution_count": 5,
   "metadata": {
    "id": "oRAlMdNzZC8j"
   },
   "outputs": [],
   "source": [
    "params = {'batch_size':1,\n",
    "          'num_workers':20,\n",
    "          'shuffle':True}\n",
    "\n",
    "loader_train = DataLoader(train_dataset, **params)\n",
    "loader_test = DataLoader(test_dataset, **params)"
   ]
  },
  {
   "cell_type": "markdown",
   "metadata": {
    "id": "BKW2Icv6ZC8j"
   },
   "source": [
    "## Init Model"
   ]
  },
  {
   "cell_type": "code",
   "execution_count": 17,
   "metadata": {
    "id": "drXPBT1Y73-x"
   },
   "outputs": [],
   "source": [
    "set_random_seed(42)\n",
    "torch.cuda.empty_cache()\n",
    "\n",
    "with torch.cuda.device(device):\n",
    "    model = GraphZSAGEConv_v5_lin(top_count=len(feature_names), edge=edges)\n",
    "    model = model.to(device)"
   ]
  },
  {
   "cell_type": "markdown",
   "metadata": {
    "id": "3Bi4KGrzCURS"
   },
   "source": [
    "## Train Model"
   ]
  },
  {
   "cell_type": "code",
   "execution_count": 10,
   "metadata": {
    "id": "gub_t2ZiCzfU",
    "outputId": "196bde70-ad47-4221-f62d-9299e9b224d8"
   },
   "outputs": [
    {
     "data": {
      "image/png": "[encoded data removed]",
      "text/plain": [
       "<Figure size 2000x400 with 1 Axes>"
      ]
     },
     "metadata": {},
     "output_type": "display_data"
    },
    {
     "data": {
      "image/png": "[encoded data removed]",
      "text/plain": [
       "<Figure size 2000x400 with 1 Axes>"
      ]
     },
     "metadata": {},
     "output_type": "display_data"
    },
    {
     "data": {
      "image/png": "[encoded data removed]",
      "text/plain": [
       "<Figure size 2000x400 with 1 Axes>"
      ]
     },
     "metadata": {},
     "output_type": "display_data"
    },
    {
     "data": {
      "image/png": "[encoded data removed]",
      "text/plain": [
       "<Figure size 2000x400 with 1 Axes>"
      ]
     },
     "metadata": {},
     "output_type": "display_data"
    },
    {
     "name": "stdout",
     "output_type": "stream",
     "text": [
      "Time:  26.205955521265665\n",
      "Epoch 1: ROC-AUC = 93.03%\n",
      "Epoch 1: Precision = 0.731\n",
      "Epoch 1: Recall = 0.778\n",
      "Epoch 1: F1-score = 0.735\n",
      "Final ROC-AUC = 93.03%\n",
      "Final Precision = 0.731\n",
      "Final Recall = 0.778\n",
      "Final F1-score = 0.735\n"
     ]
    }
   ],
   "source": [
    "n_epochs = 1\n",
    "\n",
    "opt = torch.optim.Adam(model.parameters(), lr=10**-4, weight_decay=10**-4)\n",
    "\n",
    "val_auc_log, val_pr_log, val_rec_log, val_f1_log, val_acc_log, val_loss_log, times = train(model, opt, n_epochs, loader_train, loader_test, width)"
   ]
  },
  {
   "cell_type": "code",
   "execution_count": 11,
   "metadata": {
    "id": "81ZHq6fjC56G",
    "outputId": "592b34d9-f466-4230-beb1-fb834983ab66"
   },
   "outputs": [
    {
     "name": "stdout",
     "output_type": "stream",
     "text": [
      "Epoch 0\n",
      "Max F1-score: 73.5080%\n",
      "ROC-AUC: 93.0256%\n",
      "Precision: 0.7313\n",
      "Recall: 0.7776\n",
      "Mean time for 1 epoch 26.21 minutes\n"
     ]
    }
   ],
   "source": [
    "print(\"Epoch {}\".format(np.argmax(val_f1_log)))\n",
    "print(\"Max F1-score: {:.4f}%\".format(val_f1_log[np.argmax(val_f1_log)]*100))\n",
    "print(\"ROC-AUC: {:.4f}%\".format(val_auc_log[np.argmax(val_f1_log)]*100))\n",
    "print(\"Precision: {:.4f}\".format(val_pr_log[np.argmax(val_f1_log)]))\n",
    "print(\"Recall: {:.4f}\".format(val_rec_log[np.argmax(val_f1_log)]))\n",
    "\n",
    "print(\"Mean time for 1 epoch {:.2f} minutes\".format(np.mean(times) / 60))"
   ]
  },
  {
   "cell_type": "markdown",
   "metadata": {
    "id": "OH-kcRxTZC8l"
   },
   "source": [
    "## Interpretation Pipeline for GraphZSAGEConv Model: instruction"
   ]
  },
  {
   "cell_type": "code",
   "execution_count": null,
   "metadata": {
    "id": "OIxoOsOeDJgd"
   },
   "outputs": [],
   "source": [
    "'''\n",
    "algorithm can be:\n",
    "\n",
    "- IntegratedGradients = default\n",
    "- GuidedBackprop\n",
    "- Deconvolution\n",
    "- InputXGradient\n",
    "\n",
    "model is trained and interpretated model; in eval()\n",
    "\n",
    "loader_test, loader_train is interpreted data\n",
    "\n",
    "width is width of the interval\n",
    "\n",
    "save_filename is name of saved file\n",
    "\n",
    "need_return whether output of interpretation is needed; 0 or 1\n",
    "\n",
    "'''"
   ]
  },
  {
   "cell_type": "code",
   "execution_count": 8,
   "metadata": {
    "id": "yoBBQ_UOcxLU"
   },
   "outputs": [
    {
     "data": {
      "text/plain": [
       "\"\\n# example\\n\\ncnn_interpretation_pipeline(model, loader_test, loader_train, width, 'mean_GraphZSAGEConv_v5_lin_GuidedBackprop','GuidedBackprop', need_return=0)\\n# or\\nmean_GB = cnn_interpretation_pipeline(model, loader_test, loader_train, width, 'mean_GraphZSAGEConv_v5_lin_GuidedBackprop', 'GuidedBackprop', need_return=1)\\n\""
      ]
     },
     "execution_count": 8,
     "metadata": {},
     "output_type": "execute_result"
    }
   ],
   "source": [
    "'''\n",
    "# example\n",
    "\n",
    "cnn_interpretation_pipeline(model, loader_test, loader_train, width, 'mean_GraphZSAGEConv_v5_lin_GuidedBackprop','GuidedBackprop', need_return=0)\n",
    "# or\n",
    "mean_GB = cnn_interpretation_pipeline(model, loader_test, loader_train, width, 'mean_GraphZSAGEConv_v5_lin_GuidedBackprop', 'GuidedBackprop', need_return=1)\n",
    "'''"
   ]
  },
  {
   "cell_type": "markdown",
   "metadata": {
    "id": "Unggr690Dcbd"
   },
   "source": [
    "## Interpretation"
   ]
  },
  {
   "cell_type": "code",
   "execution_count": 15,
   "metadata": {
    "id": "Wnf--TTpDeP4",
    "outputId": "ff234e37-9043-4947-8a50-34cf6644e0f2"
   },
   "outputs": [
    {
     "data": {
      "text/plain": [
       "GraphZSAGEConv_v5_lin(\n",
       "  (conv1): SAGEConv(1950, 1800, aggr=mean)\n",
       "  (conv2): SAGEConv(1800, 1650, aggr=mean)\n",
       "  (conv3): SAGEConv(1650, 1500, aggr=mean)\n",
       "  (conv4): SAGEConv(1500, 1350, aggr=mean)\n",
       "  (conv5): SAGEConv(1350, 1200, aggr=mean)\n",
       "  (conv6): SAGEConv(1200, 1050, aggr=mean)\n",
       "  (conv7): SAGEConv(1050, 900, aggr=mean)\n",
       "  (conv8): SAGEConv(900, 750, aggr=mean)\n",
       "  (conv9): SAGEConv(750, 600, aggr=mean)\n",
       "  (conv10): SAGEConv(600, 450, aggr=mean)\n",
       "  (conv11): SAGEConv(450, 300, aggr=mean)\n",
       "  (conv12): SAGEConv(300, 150, aggr=mean)\n",
       "  (conv13): SAGEConv(150, 64, aggr=mean)\n",
       "  (fc1): Linear(in_features=64, out_features=32, bias=True)\n",
       "  (fc2): Linear(in_features=32, out_features=2, bias=True)\n",
       ")"
      ]
     },
     "execution_count": 15,
     "metadata": {},
     "output_type": "execute_result"
    }
   ],
   "source": [
    "model.eval()"
   ]
  },
  {
   "cell_type": "code",
   "execution_count": 19,
   "metadata": {
    "colab": {
     "referenced_widgets": [
      "513ccde064f841ca80a8bb9abd46caae",
      "433985d8807d49ed84b0e908b2cdc1a3"
     ]
    },
    "id": "_5Zal9VIcxDQ",
    "outputId": "45015b74-1b0e-4b99-e38d-9442bd2afd31"
   },
   "outputs": [
    {
     "data": {
      "application/vnd.jupyter.widget-view+json": {
       "model_id": "425c990fec8b41f7ab2c8f0f39a8693b",
       "version_major": 2,
       "version_minor": 0
      },
      "text/plain": [
       "  0%|          | 0/9041 [00:00<?, ?it/s]"
      ]
     },
     "metadata": {},
     "output_type": "display_data"
    },
    {
     "name": "stdout",
     "output_type": "stream",
     "text": [
      "done interpretation\n",
      "Averaged tensor shape: torch.Size([1950])\n",
      "Averaged tensor: tensor([nan, nan, nan,  ..., nan, nan, nan], dtype=torch.float64)\n",
      "Interpretation result is an averaged tensor. It is saved as:\n",
      "mean_GuidedBackprop.pt\n"
     ]
    }
   ],
   "source": [
    "mean_GB = graph_interpretation_pipeline(model, loader_test, width, 'GuidedBackprop', 'mean_GuidedBackprop',  need_return=1)"
   ]
  },
  {
   "cell_type": "code",
   "execution_count": 20,
   "metadata": {
    "colab": {
     "referenced_widgets": [
      "f6761aa1b279451e9af76c8a56c1488f",
      "b395b2a4cdb1475b8cedae409df98094"
     ]
    },
    "id": "ENjcO0qOcwvX",
    "outputId": "02737de5-bf73-4379-bad6-696ac959212a"
   },
   "outputs": [
    {
     "data": {
      "application/vnd.jupyter.widget-view+json": {
       "model_id": "1fe576a484d847a08cb3e7d59cc94790",
       "version_major": 2,
       "version_minor": 0
      },
      "text/plain": [
       "  0%|          | 0/9041 [00:00<?, ?it/s]"
      ]
     },
     "metadata": {},
     "output_type": "display_data"
    },
    {
     "name": "stdout",
     "output_type": "stream",
     "text": [
      "done interpretation\n",
      "Averaged tensor shape: torch.Size([1950])\n",
      "Averaged tensor: tensor([nan, nan, nan,  ..., nan, nan, nan], dtype=torch.float64)\n",
      "Interpretation result is an averaged tensor. It is saved as:\n",
      "mean_IntegratedGradients.pt\n"
     ]
    }
   ],
   "source": [
    "mean_IG = graph_interpretation_pipeline(model, loader_test, width, 'IntegratedGradients', 'mean_IntegratedGradients', need_return=1)"
   ]
  },
  {
   "cell_type": "code",
   "execution_count": 21,
   "metadata": {
    "colab": {
     "referenced_widgets": [
      "bc726b16658a4139a3afd42a089b88c5",
      "affac6a58eac4a6eb130b929a57adae5"
     ]
    },
    "id": "9qBPOYdIDowv",
    "outputId": "3ddf8bba-c0c3-4157-d704-ad4217e0bdc3"
   },
   "outputs": [
    {
     "data": {
      "application/vnd.jupyter.widget-view+json": {
       "model_id": "0e5a280600de464eb4b6a2169759e7fd",
       "version_major": 2,
       "version_minor": 0
      },
      "text/plain": [
       "  0%|          | 0/9041 [00:00<?, ?it/s]"
      ]
     },
     "metadata": {},
     "output_type": "display_data"
    },
    {
     "name": "stdout",
     "output_type": "stream",
     "text": [
      "done interpretation\n",
      "Averaged tensor shape: torch.Size([1950])\n",
      "Averaged tensor: tensor([nan, nan, nan,  ..., nan, nan, nan], dtype=torch.float64)\n",
      "Interpretation result is an averaged tensor. It is saved as:\n",
      "mean_Deconvolution.pt\n"
     ]
    }
   ],
   "source": [
    "mean_DEC = graph_interpretation_pipeline(model, loader_test, width, 'Deconvolution', 'mean_Deconvolution', need_return=1)"
   ]
  },
  {
   "cell_type": "code",
   "execution_count": 22,
   "metadata": {
    "colab": {
     "referenced_widgets": [
      "c334c6ae351f49b6a1483c2944c726a5",
      "a5a7298e46f24745b699da3ba2147678"
     ]
    },
    "id": "alzassmxDqMa",
    "outputId": "e633feee-bfc3-40ad-8d35-702341b15a8e"
   },
   "outputs": [
    {
     "data": {
      "application/vnd.jupyter.widget-view+json": {
       "model_id": "361c365cb6a44bb48572181a51de5a7f",
       "version_major": 2,
       "version_minor": 0
      },
      "text/plain": [
       "  0%|          | 0/9041 [00:00<?, ?it/s]"
      ]
     },
     "metadata": {},
     "output_type": "display_data"
    },
    {
     "name": "stdout",
     "output_type": "stream",
     "text": [
      "done interpretation\n",
      "Averaged tensor shape: torch.Size([1950])\n",
      "Averaged tensor: tensor([nan, nan, nan,  ..., nan, nan, nan], dtype=torch.float64)\n",
      "Interpretation result is an averaged tensor. It is saved as:\n",
      "mean_InputXGradient.pt\n"
     ]
    }
   ],
   "source": [
    "mean_IXG = graph_interpretation_pipeline(model, loader_test, width, 'InputXGradient', 'mean_InputXGradient', need_return=1)"
   ]
  },
  {
   "cell_type": "code",
   "execution_count": 23,
   "metadata": {},
   "outputs": [
    {
     "data": {
      "application/vnd.jupyter.widget-view+json": {
       "model_id": "004e925ef8a5491893ff08c8e1e3e7d2",
       "version_major": 2,
       "version_minor": 0
      },
      "text/plain": [
       "  0%|          | 0/9041 [00:00<?, ?it/s]"
      ]
     },
     "metadata": {},
     "output_type": "display_data"
    },
    {
     "name": "stdout",
     "output_type": "stream",
     "text": [
      "done interpretation\n",
      "Averaged tensor shape: torch.Size([1950])\n",
      "Averaged tensor: tensor([nan, nan, nan,  ..., nan, nan, nan], dtype=torch.float64)\n",
      "Interpretation result is an averaged tensor. It is saved as:\n",
      "mean_GNNExplainer.pt\n"
     ]
    }
   ],
   "source": [
    "mean_GNNExp = graph_interpretation_pipeline(model, loader_test, width, 'GNNExplainer', 'mean_GNNExplainer', need_return=1)"
   ]
  },
  {
   "cell_type": "markdown",
   "metadata": {
    "id": "0ETV44fAEJDT"
   },
   "source": [
    "## Ranking"
   ]
  },
  {
   "cell_type": "code",
   "execution_count": 24,
   "metadata": {
    "id": "fpVGRNVk73-z"
   },
   "outputs": [],
   "source": [
    "# in our features data first 4 indices correspond to ACTG\n",
    "# as we are interested in omics data, we will remove ACTG before feature ranking\n",
    "\n",
    "mean_IG = mean_IG[4:]\n",
    "mean_IXG = mean_IXG[4:]\n",
    "mean_DEC = mean_DEC[4:]\n",
    "mean_GB = mean_GB[4:]"
   ]
  },
  {
   "cell_type": "code",
   "execution_count": 25,
   "metadata": {
    "id": "maSFWUWYDsJk"
   },
   "outputs": [],
   "source": [
    "features_weights = {'IG' : mean_IG, 'IXG' : mean_IXG, 'DEC' : mean_DEC, 'GB' : mean_GB}\n",
    "features_weights = pd.DataFrame(features_weights)"
   ]
  },
  {
   "cell_type": "code",
   "execution_count": 26,
   "metadata": {
    "id": "6-bV0FdNMUVW",
    "outputId": "25e3cd4a-cc5a-4d54-b427-ed0a1c271dfe"
   },
   "outputs": [
    {
     "data": {
      "text/html": [
       "<div>\n",
       "<style scoped>\n",
       "    .dataframe tbody tr th:only-of-type {\n",
       "        vertical-align: middle;\n",
       "    }\n",
       "\n",
       "    .dataframe tbody tr th {\n",
       "        vertical-align: top;\n",
       "    }\n",
       "\n",
       "    .dataframe thead th {\n",
       "        text-align: right;\n",
       "    }\n",
       "</style>\n",
       "<table border=\"1\" class=\"dataframe\">\n",
       "  <thead>\n",
       "    <tr style=\"text-align: right;\">\n",
       "      <th></th>\n",
       "      <th>IG</th>\n",
       "      <th>IXG</th>\n",
       "      <th>DEC</th>\n",
       "      <th>GB</th>\n",
       "    </tr>\n",
       "  </thead>\n",
       "  <tbody>\n",
       "    <tr>\n",
       "      <th>0</th>\n",
       "      <td>NaN</td>\n",
       "      <td>NaN</td>\n",
       "      <td>NaN</td>\n",
       "      <td>NaN</td>\n",
       "    </tr>\n",
       "    <tr>\n",
       "      <th>1</th>\n",
       "      <td>NaN</td>\n",
       "      <td>NaN</td>\n",
       "      <td>NaN</td>\n",
       "      <td>NaN</td>\n",
       "    </tr>\n",
       "    <tr>\n",
       "      <th>2</th>\n",
       "      <td>NaN</td>\n",
       "      <td>NaN</td>\n",
       "      <td>NaN</td>\n",
       "      <td>NaN</td>\n",
       "    </tr>\n",
       "    <tr>\n",
       "      <th>3</th>\n",
       "      <td>NaN</td>\n",
       "      <td>NaN</td>\n",
       "      <td>NaN</td>\n",
       "      <td>NaN</td>\n",
       "    </tr>\n",
       "    <tr>\n",
       "      <th>4</th>\n",
       "      <td>NaN</td>\n",
       "      <td>NaN</td>\n",
       "      <td>NaN</td>\n",
       "      <td>NaN</td>\n",
       "    </tr>\n",
       "  </tbody>\n",
       "</table>\n",
       "</div>"
      ],
      "text/plain": [
       "   IG  IXG  DEC  GB\n",
       "0 NaN  NaN  NaN NaN\n",
       "1 NaN  NaN  NaN NaN\n",
       "2 NaN  NaN  NaN NaN\n",
       "3 NaN  NaN  NaN NaN\n",
       "4 NaN  NaN  NaN NaN"
      ]
     },
     "execution_count": 26,
     "metadata": {},
     "output_type": "execute_result"
    }
   ],
   "source": [
    "features_weights.head()"
   ]
  },
  {
   "cell_type": "code",
   "execution_count": 27,
   "metadata": {
    "id": "4Bb4aHZuDr6K"
   },
   "outputs": [],
   "source": [
    "features_range = get_ranked_features(features_weights)"
   ]
  },
  {
   "cell_type": "code",
   "execution_count": 28,
   "metadata": {
    "id": "AVkEVDr8DrlY",
    "outputId": "ced0c7ef-b819-40ae-e9b3-09ad21b668cd"
   },
   "outputs": [
    {
     "data": {
      "text/html": [
       "<div>\n",
       "<style scoped>\n",
       "    .dataframe tbody tr th:only-of-type {\n",
       "        vertical-align: middle;\n",
       "    }\n",
       "\n",
       "    .dataframe tbody tr th {\n",
       "        vertical-align: top;\n",
       "    }\n",
       "\n",
       "    .dataframe thead th {\n",
       "        text-align: right;\n",
       "    }\n",
       "</style>\n",
       "<table border=\"1\" class=\"dataframe\">\n",
       "  <thead>\n",
       "    <tr style=\"text-align: right;\">\n",
       "      <th></th>\n",
       "      <th>mean_deviation</th>\n",
       "    </tr>\n",
       "  </thead>\n",
       "  <tbody>\n",
       "    <tr>\n",
       "      <th>0</th>\n",
       "      <td>NaN</td>\n",
       "    </tr>\n",
       "    <tr>\n",
       "      <th>1</th>\n",
       "      <td>NaN</td>\n",
       "    </tr>\n",
       "    <tr>\n",
       "      <th>2</th>\n",
       "      <td>NaN</td>\n",
       "    </tr>\n",
       "    <tr>\n",
       "      <th>3</th>\n",
       "      <td>NaN</td>\n",
       "    </tr>\n",
       "    <tr>\n",
       "      <th>4</th>\n",
       "      <td>NaN</td>\n",
       "    </tr>\n",
       "  </tbody>\n",
       "</table>\n",
       "</div>"
      ],
      "text/plain": [
       "   mean_deviation\n",
       "0             NaN\n",
       "1             NaN\n",
       "2             NaN\n",
       "3             NaN\n",
       "4             NaN"
      ]
     },
     "execution_count": 28,
     "metadata": {},
     "output_type": "execute_result"
    }
   ],
   "source": [
    "features_range.head()"
   ]
  },
  {
   "cell_type": "markdown",
   "metadata": {
    "id": "L6YXn1RtElAm"
   },
   "source": [
    "## Load Extracted Features"
   ]
  },
  {
   "cell_type": "code",
   "execution_count": 29,
   "metadata": {
    "id": "HJmNVw2eEkto"
   },
   "outputs": [],
   "source": [
    "features = [i[:-4] for i in os.listdir('z_dna/hg38_features/sparse/') if i.endswith('.pkl')]\n",
    "feature_names = [i for i in features]\n",
    "\n",
    "# the number of extracted features\n",
    "top_count = 100\n",
    "features_top = features_range.iloc[:top_count].index.tolist()\n",
    "\n",
    "top = []\n",
    "for index in features_top:\n",
    "    top.append(features[index])\n",
    "\n",
    "\n",
    "features = top\n",
    "feature_names = [i for i in features]"
   ]
  },
  {
   "cell_type": "code",
   "execution_count": 30,
   "metadata": {
    "colab": {
     "referenced_widgets": [
      "b4227654ec2b4871b7436b7ab4d34c37"
     ]
    },
    "id": "bDECYJMuEkjW",
    "outputId": "63b6d57c-5ed6-46ee-d836-0611dbb66e90"
   },
   "outputs": [
    {
     "data": {
      "application/vnd.jupyter.widget-view+json": {
       "model_id": "7ff7b0f5253c4c77a3c53e9c82540cbf",
       "version_major": 2,
       "version_minor": 0
      },
      "text/plain": [
       "  0%|          | 0/100 [00:00<?, ?it/s]"
      ]
     },
     "metadata": {},
     "output_type": "display_data"
    }
   ],
   "source": [
    "DNA_features = {feature: load(f'z_dna/hg38_features/sparse/{feature}.pkl')\n",
    "                for feature in tqdm(feature_names)}"
   ]
  },
  {
   "cell_type": "code",
   "execution_count": 31,
   "metadata": {
    "id": "GFGsavj4Ekdv"
   },
   "outputs": [
    {
     "name": "stderr",
     "output_type": "stream",
     "text": [
      "100%|█████████████████████████████████████████████████████████████████████| 2489564/2489564 [00:26<00:00, 94779.16it/s]\n",
      "100%|█████████████████████████████████████████████████████████████████████| 2421935/2421935 [00:26<00:00, 92925.82it/s]\n",
      "100%|█████████████████████████████████████████████████████████████████████| 1982955/1982955 [00:22<00:00, 86224.29it/s]\n",
      "100%|█████████████████████████████████████████████████████████████████████| 1902145/1902145 [00:21<00:00, 87528.20it/s]\n",
      "100%|█████████████████████████████████████████████████████████████████████| 1815382/1815382 [00:19<00:00, 94778.88it/s]\n",
      "100%|█████████████████████████████████████████████████████████████████████| 1708059/1708059 [00:19<00:00, 86703.86it/s]\n",
      "100%|█████████████████████████████████████████████████████████████████████| 1593459/1593459 [00:17<00:00, 93531.85it/s]\n",
      "100%|█████████████████████████████████████████████████████████████████████| 1451386/1451386 [00:16<00:00, 85929.91it/s]\n",
      "100%|█████████████████████████████████████████████████████████████████████| 1383947/1383947 [00:14<00:00, 93521.50it/s]\n",
      "100%|█████████████████████████████████████████████████████████████████████| 1337974/1337974 [00:14<00:00, 94475.71it/s]\n",
      "100%|█████████████████████████████████████████████████████████████████████| 1350866/1350866 [00:16<00:00, 82876.83it/s]\n",
      "100%|█████████████████████████████████████████████████████████████████████| 1332753/1332753 [00:14<00:00, 94569.42it/s]\n",
      "100%|█████████████████████████████████████████████████████████████████████| 1143643/1143643 [00:12<00:00, 94030.07it/s]\n",
      "100%|█████████████████████████████████████████████████████████████████████| 1070437/1070437 [00:11<00:00, 95440.95it/s]\n",
      "100%|█████████████████████████████████████████████████████████████████████| 1019911/1019911 [00:13<00:00, 78324.93it/s]\n",
      "100%|███████████████████████████████████████████████████████████████████████| 903383/903383 [00:09<00:00, 94955.29it/s]\n",
      "100%|███████████████████████████████████████████████████████████████████████| 832574/832574 [00:08<00:00, 94094.77it/s]\n",
      "100%|███████████████████████████████████████████████████████████████████████| 803732/803732 [00:08<00:00, 93511.40it/s]\n",
      "100%|███████████████████████████████████████████████████████████████████████| 586176/586176 [00:06<00:00, 93084.29it/s]\n",
      "100%|███████████████████████████████████████████████████████████████████████| 644441/644441 [00:06<00:00, 94868.36it/s]\n",
      "100%|███████████████████████████████████████████████████████████████████████| 467099/467099 [00:05<00:00, 92005.00it/s]\n",
      "100%|███████████████████████████████████████████████████████████████████████| 508184/508184 [00:05<00:00, 94378.14it/s]\n",
      "100%|█████████████████████████████████████████████████████████████████████| 1560408/1560408 [00:19<00:00, 80966.07it/s]\n",
      "100%|███████████████████████████████████████████████████████████████████████| 572274/572274 [00:05<00:00, 95575.23it/s]\n",
      "100%|█████████████████████████████████████████████████████████████████████████████| 165/165 [00:00<00:00, 67014.64it/s]\n"
     ]
    }
   ],
   "source": [
    "np.random.seed(10)\n",
    "\n",
    "width = 100\n",
    "\n",
    "train_dataset, test_dataset, edges = get_train_test_dataset_edges_graph(width, chroms, feature_names, DNA, DNA_features, ZDNA)"
   ]
  },
  {
   "cell_type": "code",
   "execution_count": 32,
   "metadata": {
    "id": "klIqQKcjFYx1"
   },
   "outputs": [],
   "source": [
    "np.random.seed(42)\n",
    "params = {'batch_size':32,\n",
    "          'num_workers':4,\n",
    "          'shuffle':True}\n",
    "\n",
    "loader_train = DataLoader(train_dataset, **params)\n",
    "loader_test = DataLoader(test_dataset, **params)"
   ]
  },
  {
   "cell_type": "markdown",
   "metadata": {
    "id": "JTi4tgZxFbnh"
   },
   "source": [
    "## Train Model On New Features"
   ]
  },
  {
   "cell_type": "code",
   "execution_count": 33,
   "metadata": {
    "id": "cmpzpgExFbN6"
   },
   "outputs": [],
   "source": [
    "set_random_seed(42)\n",
    "torch.cuda.empty_cache()\n",
    "\n",
    "with torch.cuda.device(device):\n",
    "    model = GraphZSAGEConv_v5_lin(top_count=top_count, edge=edges)\n",
    "    model = model.to(device)"
   ]
  },
  {
   "cell_type": "code",
   "execution_count": 35,
   "metadata": {
    "id": "-To4s5ygFnZQ",
    "outputId": "0fb116a6-b989-475c-cf4a-b824de6197d6"
   },
   "outputs": [
    {
     "data": {
      "image/png": "[encoded data removed]",
      "text/plain": [
       "<Figure size 2000x400 with 1 Axes>"
      ]
     },
     "metadata": {},
     "output_type": "display_data"
    },
    {
     "data": {
      "image/png": "[encoded data removed]",
      "text/plain": [
       "<Figure size 2000x400 with 1 Axes>"
      ]
     },
     "metadata": {},
     "output_type": "display_data"
    },
    {
     "data": {
      "image/png": "[encoded data removed]",
      "text/plain": [
       "<Figure size 2000x400 with 1 Axes>"
      ]
     },
     "metadata": {},
     "output_type": "display_data"
    },
    {
     "data": {
      "image/png": "[encoded data removed]",
      "text/plain": [
       "<Figure size 2000x400 with 1 Axes>"
      ]
     },
     "metadata": {},
     "output_type": "display_data"
    },
    {
     "name": "stdout",
     "output_type": "stream",
     "text": [
      "Time:  8.536702871322632\n",
      "Epoch 1: ROC-AUC = 95.47%\n",
      "Epoch 1: Precision = 0.752\n",
      "Epoch 1: Recall = 0.852\n",
      "Epoch 1: F1-score = 0.797\n",
      "Final ROC-AUC = 95.47%\n",
      "Final Precision = 0.752\n",
      "Final Recall = 0.852\n",
      "Final F1-score = 0.797\n"
     ]
    }
   ],
   "source": [
    "n_epochs = 1\n",
    "\n",
    "opt = torch.optim.Adam(model.parameters(), lr=10**-4, weight_decay=10**-4)\n",
    "\n",
    "val_auc_log, val_pr_log, val_rec_log, val_f1_log, val_acc_log, val_loss_log, times = train(model, opt, n_epochs, loader_train, loader_test, width)"
   ]
  },
  {
   "cell_type": "code",
   "execution_count": 36,
   "metadata": {
    "id": "wrUSLReLFvKZ",
    "outputId": "69ffd104-f66b-458b-f078-f29a323abd19"
   },
   "outputs": [
    {
     "name": "stdout",
     "output_type": "stream",
     "text": [
      "Epoch 0\n",
      "Max F1-score: 79.7470%\n",
      "ROC-AUC: 95.4652%\n",
      "Precision: 0.7519\n",
      "Recall: 0.8518\n",
      "Mean time for 1 epoch 8.54 minutes\n"
     ]
    }
   ],
   "source": [
    "print(\"Epoch {}\".format(np.argmax(val_f1_log)))\n",
    "print(\"Max F1-score: {:.4f}%\".format(val_f1_log[np.argmax(val_f1_log)]*100))\n",
    "print(\"ROC-AUC: {:.4f}%\".format(val_auc_log[np.argmax(val_f1_log)]*100))\n",
    "print(\"Precision: {:.4f}\".format(val_pr_log[np.argmax(val_f1_log)]))\n",
    "print(\"Recall: {:.4f}\".format(val_rec_log[np.argmax(val_f1_log)]))\n",
    "\n",
    "print(\"Mean time for 1 epoch {:.2f} minutes\".format(np.mean(times) / 60))"
   ]
  },
  {
   "cell_type": "code",
   "execution_count": null,
   "metadata": {
    "id": "i0udb-qU73-4"
   },
   "outputs": [],
   "source": []
  }
 ],
 "metadata": {
  "accelerator": "GPU",
  "colab": {
   "collapsed_sections": [
    "OH-kcRxTZC8l"
   ],
   "gpuType": "T4",
   "provenance": []
  },
  "kernelspec": {
   "display_name": "Python 2",
   "language": "python",
   "name": "python2"
  },
  "language_info": {
   "codemirror_mode": {
    "name": "ipython",
    "version": 3
   },
   "file_extension": ".py",
   "mimetype": "text/x-python",
   "name": "python",
   "nbconvert_exporter": "python",
   "pygments_lexer": "ipython3",
   "version": "3.11.4"
  },
  "widgets": {
   "application/vnd.jupyter.widget-state+json": {
    "0a99ea4377734a9f8c79085f99228a4b": {
     "model_module": "@jupyter-widgets/base",
     "model_module_version": "1.2.0",
     "model_name": "LayoutModel",
     "state": {
      "_model_module": "@jupyter-widgets/base",
      "_model_module_version": "1.2.0",
      "_model_name": "LayoutModel",
      "_view_count": null,
      "_view_module": "@jupyter-widgets/base",
      "_view_module_version": "1.2.0",
      "_view_name": "LayoutView",
      "align_content": null,
      "align_items": null,
      "align_self": null,
      "border": null,
      "bottom": null,
      "display": null,
      "flex": null,
      "flex_flow": null,
      "grid_area": null,
      "grid_auto_columns": null,
      "grid_auto_flow": null,
      "grid_auto_rows": null,
      "grid_column": null,
      "grid_gap": null,
      "grid_row": null,
      "grid_template_areas": null,
      "grid_template_columns": null,
      "grid_template_rows": null,
      "height": null,
      "justify_content": null,
      "justify_items": null,
      "left": null,
      "margin": null,
      "max_height": null,
      "max_width": null,
      "min_height": null,
      "min_width": null,
      "object_fit": null,
      "object_position": null,
      "order": null,
      "overflow": null,
      "overflow_x": null,
      "overflow_y": null,
      "padding": null,
      "right": null,
      "top": null,
      "visibility": null,
      "width": null
     }
    },
    "0b5caa7a7ec54efdbaf6d7ffa367fec5": {
     "model_module": "@jupyter-widgets/controls",
     "model_module_version": "1.5.0",
     "model_name": "DescriptionStyleModel",
     "state": {
      "_model_module": "@jupyter-widgets/controls",
      "_model_module_version": "1.5.0",
      "_model_name": "DescriptionStyleModel",
      "_view_count": null,
      "_view_module": "@jupyter-widgets/base",
      "_view_module_version": "1.2.0",
      "_view_name": "StyleView",
      "description_width": ""
     }
    },
    "0d48a360e93d43999725ed2da29dac94": {
     "model_module": "@jupyter-widgets/base",
     "model_module_version": "1.2.0",
     "model_name": "LayoutModel",
     "state": {
      "_model_module": "@jupyter-widgets/base",
      "_model_module_version": "1.2.0",
      "_model_name": "LayoutModel",
      "_view_count": null,
      "_view_module": "@jupyter-widgets/base",
      "_view_module_version": "1.2.0",
      "_view_name": "LayoutView",
      "align_content": null,
      "align_items": null,
      "align_self": null,
      "border": null,
      "bottom": null,
      "display": null,
      "flex": null,
      "flex_flow": null,
      "grid_area": null,
      "grid_auto_columns": null,
      "grid_auto_flow": null,
      "grid_auto_rows": null,
      "grid_column": null,
      "grid_gap": null,
      "grid_row": null,
      "grid_template_areas": null,
      "grid_template_columns": null,
      "grid_template_rows": null,
      "height": null,
      "justify_content": null,
      "justify_items": null,
      "left": null,
      "margin": null,
      "max_height": null,
      "max_width": null,
      "min_height": null,
      "min_width": null,
      "object_fit": null,
      "object_position": null,
      "order": null,
      "overflow": null,
      "overflow_x": null,
      "overflow_y": null,
      "padding": null,
      "right": null,
      "top": null,
      "visibility": null,
      "width": null
     }
    },
    "0e60d1ee5fc74c23b3f5294b13bc2c31": {
     "model_module": "@jupyter-widgets/controls",
     "model_module_version": "1.5.0",
     "model_name": "HBoxModel",
     "state": {
      "_dom_classes": [],
      "_model_module": "@jupyter-widgets/controls",
      "_model_module_version": "1.5.0",
      "_model_name": "HBoxModel",
      "_view_count": null,
      "_view_module": "@jupyter-widgets/controls",
      "_view_module_version": "1.5.0",
      "_view_name": "HBoxView",
      "box_style": "",
      "children": [
       "IPY_MODEL_cfce85a0a80243f1853288303d77f629",
       "IPY_MODEL_16273a95d7a34ba9bd8aac632bb5d79f",
       "IPY_MODEL_c6d01735dedc488faecfe7e9f3dd94ff"
      ],
      "layout": "IPY_MODEL_0a99ea4377734a9f8c79085f99228a4b"
     }
    },
    "15c64c96315e48faa53db2ef6f50b851": {
     "model_module": "@jupyter-widgets/base",
     "model_module_version": "1.2.0",
     "model_name": "LayoutModel",
     "state": {
      "_model_module": "@jupyter-widgets/base",
      "_model_module_version": "1.2.0",
      "_model_name": "LayoutModel",
      "_view_count": null,
      "_view_module": "@jupyter-widgets/base",
      "_view_module_version": "1.2.0",
      "_view_name": "LayoutView",
      "align_content": null,
      "align_items": null,
      "align_self": null,
      "border": null,
      "bottom": null,
      "display": null,
      "flex": null,
      "flex_flow": null,
      "grid_area": null,
      "grid_auto_columns": null,
      "grid_auto_flow": null,
      "grid_auto_rows": null,
      "grid_column": null,
      "grid_gap": null,
      "grid_row": null,
      "grid_template_areas": null,
      "grid_template_columns": null,
      "grid_template_rows": null,
      "height": null,
      "justify_content": null,
      "justify_items": null,
      "left": null,
      "margin": null,
      "max_height": null,
      "max_width": null,
      "min_height": null,
      "min_width": null,
      "object_fit": null,
      "object_position": null,
      "order": null,
      "overflow": null,
      "overflow_x": null,
      "overflow_y": null,
      "padding": null,
      "right": null,
      "top": null,
      "visibility": null,
      "width": null
     }
    },
    "16273a95d7a34ba9bd8aac632bb5d79f": {
     "model_module": "@jupyter-widgets/controls",
     "model_module_version": "1.5.0",
     "model_name": "FloatProgressModel",
     "state": {
      "_dom_classes": [],
      "_model_module": "@jupyter-widgets/controls",
      "_model_module_version": "1.5.0",
      "_model_name": "FloatProgressModel",
      "_view_count": null,
      "_view_module": "@jupyter-widgets/controls",
      "_view_module_version": "1.5.0",
      "_view_name": "ProgressView",
      "bar_style": "success",
      "description": "",
      "description_tooltip": null,
      "layout": "IPY_MODEL_15c64c96315e48faa53db2ef6f50b851",
      "max": 25,
      "min": 0,
      "orientation": "horizontal",
      "style": "IPY_MODEL_e0f6e5a994524e089ebb2233683fe8b7",
      "value": 25
     }
    },
    "1d1c58fe0312400f9af0b65d8b91eca5": {
     "model_module": "@jupyter-widgets/base",
     "model_module_version": "1.2.0",
     "model_name": "LayoutModel",
     "state": {
      "_model_module": "@jupyter-widgets/base",
      "_model_module_version": "1.2.0",
      "_model_name": "LayoutModel",
      "_view_count": null,
      "_view_module": "@jupyter-widgets/base",
      "_view_module_version": "1.2.0",
      "_view_name": "LayoutView",
      "align_content": null,
      "align_items": null,
      "align_self": null,
      "border": null,
      "bottom": null,
      "display": null,
      "flex": null,
      "flex_flow": null,
      "grid_area": null,
      "grid_auto_columns": null,
      "grid_auto_flow": null,
      "grid_auto_rows": null,
      "grid_column": null,
      "grid_gap": null,
      "grid_row": null,
      "grid_template_areas": null,
      "grid_template_columns": null,
      "grid_template_rows": null,
      "height": null,
      "justify_content": null,
      "justify_items": null,
      "left": null,
      "margin": null,
      "max_height": null,
      "max_width": null,
      "min_height": null,
      "min_width": null,
      "object_fit": null,
      "object_position": null,
      "order": null,
      "overflow": null,
      "overflow_x": null,
      "overflow_y": null,
      "padding": null,
      "right": null,
      "top": null,
      "visibility": null,
      "width": null
     }
    },
    "295f3c0f88304bea97bc5d2e21bc9e89": {
     "model_module": "@jupyter-widgets/base",
     "model_module_version": "1.2.0",
     "model_name": "LayoutModel",
     "state": {
      "_model_module": "@jupyter-widgets/base",
      "_model_module_version": "1.2.0",
      "_model_name": "LayoutModel",
      "_view_count": null,
      "_view_module": "@jupyter-widgets/base",
      "_view_module_version": "1.2.0",
      "_view_name": "LayoutView",
      "align_content": null,
      "align_items": null,
      "align_self": null,
      "border": null,
      "bottom": null,
      "display": null,
      "flex": null,
      "flex_flow": null,
      "grid_area": null,
      "grid_auto_columns": null,
      "grid_auto_flow": null,
      "grid_auto_rows": null,
      "grid_column": null,
      "grid_gap": null,
      "grid_row": null,
      "grid_template_areas": null,
      "grid_template_columns": null,
      "grid_template_rows": null,
      "height": null,
      "justify_content": null,
      "justify_items": null,
      "left": null,
      "margin": null,
      "max_height": null,
      "max_width": null,
      "min_height": null,
      "min_width": null,
      "object_fit": null,
      "object_position": null,
      "order": null,
      "overflow": null,
      "overflow_x": null,
      "overflow_y": null,
      "padding": null,
      "right": null,
      "top": null,
      "visibility": null,
      "width": null
     }
    },
    "39db6d9113f14c8f8d55e6e656bdfcfa": {
     "model_module": "@jupyter-widgets/controls",
     "model_module_version": "1.5.0",
     "model_name": "HTMLModel",
     "state": {
      "_dom_classes": [],
      "_model_module": "@jupyter-widgets/controls",
      "_model_module_version": "1.5.0",
      "_model_name": "HTMLModel",
      "_view_count": null,
      "_view_module": "@jupyter-widgets/controls",
      "_view_module_version": "1.5.0",
      "_view_name": "HTMLView",
      "description": "",
      "description_tooltip": null,
      "layout": "IPY_MODEL_0d48a360e93d43999725ed2da29dac94",
      "placeholder": "​",
      "style": "IPY_MODEL_d6c0250095034aa7b608c188cc76a0cc",
      "value": "100%"
     }
    },
    "4367886b8e7e40adb5eb8692e649aff5": {
     "model_module": "@jupyter-widgets/controls",
     "model_module_version": "1.5.0",
     "model_name": "DescriptionStyleModel",
     "state": {
      "_model_module": "@jupyter-widgets/controls",
      "_model_module_version": "1.5.0",
      "_model_name": "DescriptionStyleModel",
      "_view_count": null,
      "_view_module": "@jupyter-widgets/base",
      "_view_module_version": "1.2.0",
      "_view_name": "StyleView",
      "description_width": ""
     }
    },
    "567e7d67e988418b95b6b73e343e1382": {
     "model_module": "@jupyter-widgets/controls",
     "model_module_version": "1.5.0",
     "model_name": "HTMLModel",
     "state": {
      "_dom_classes": [],
      "_model_module": "@jupyter-widgets/controls",
      "_model_module_version": "1.5.0",
      "_model_name": "HTMLModel",
      "_view_count": null,
      "_view_module": "@jupyter-widgets/controls",
      "_view_module_version": "1.5.0",
      "_view_name": "HTMLView",
      "description": "",
      "description_tooltip": null,
      "layout": "IPY_MODEL_295f3c0f88304bea97bc5d2e21bc9e89",
      "placeholder": "​",
      "style": "IPY_MODEL_4367886b8e7e40adb5eb8692e649aff5",
      "value": " 1946/1946 [01:38&lt;00:00, 20.72it/s]"
     }
    },
    "5b4729557ea14bd4b69a2692d065c1c8": {
     "model_module": "@jupyter-widgets/base",
     "model_module_version": "1.2.0",
     "model_name": "LayoutModel",
     "state": {
      "_model_module": "@jupyter-widgets/base",
      "_model_module_version": "1.2.0",
      "_model_name": "LayoutModel",
      "_view_count": null,
      "_view_module": "@jupyter-widgets/base",
      "_view_module_version": "1.2.0",
      "_view_name": "LayoutView",
      "align_content": null,
      "align_items": null,
      "align_self": null,
      "border": null,
      "bottom": null,
      "display": null,
      "flex": null,
      "flex_flow": null,
      "grid_area": null,
      "grid_auto_columns": null,
      "grid_auto_flow": null,
      "grid_auto_rows": null,
      "grid_column": null,
      "grid_gap": null,
      "grid_row": null,
      "grid_template_areas": null,
      "grid_template_columns": null,
      "grid_template_rows": null,
      "height": null,
      "justify_content": null,
      "justify_items": null,
      "left": null,
      "margin": null,
      "max_height": null,
      "max_width": null,
      "min_height": null,
      "min_width": null,
      "object_fit": null,
      "object_position": null,
      "order": null,
      "overflow": null,
      "overflow_x": null,
      "overflow_y": null,
      "padding": null,
      "right": null,
      "top": null,
      "visibility": null,
      "width": null
     }
    },
    "732526c2dfe14326832a2fb86db6d6e3": {
     "model_module": "@jupyter-widgets/controls",
     "model_module_version": "1.5.0",
     "model_name": "FloatProgressModel",
     "state": {
      "_dom_classes": [],
      "_model_module": "@jupyter-widgets/controls",
      "_model_module_version": "1.5.0",
      "_model_name": "FloatProgressModel",
      "_view_count": null,
      "_view_module": "@jupyter-widgets/controls",
      "_view_module_version": "1.5.0",
      "_view_name": "ProgressView",
      "bar_style": "success",
      "description": "",
      "description_tooltip": null,
      "layout": "IPY_MODEL_90109e07fdb0461faf6212e26525c415",
      "max": 1946,
      "min": 0,
      "orientation": "horizontal",
      "style": "IPY_MODEL_8da87fd0e1504ab4b7ed512716ccf5f0",
      "value": 1946
     }
    },
    "8da87fd0e1504ab4b7ed512716ccf5f0": {
     "model_module": "@jupyter-widgets/controls",
     "model_module_version": "1.5.0",
     "model_name": "ProgressStyleModel",
     "state": {
      "_model_module": "@jupyter-widgets/controls",
      "_model_module_version": "1.5.0",
      "_model_name": "ProgressStyleModel",
      "_view_count": null,
      "_view_module": "@jupyter-widgets/base",
      "_view_module_version": "1.2.0",
      "_view_name": "StyleView",
      "bar_color": null,
      "description_width": ""
     }
    },
    "90109e07fdb0461faf6212e26525c415": {
     "model_module": "@jupyter-widgets/base",
     "model_module_version": "1.2.0",
     "model_name": "LayoutModel",
     "state": {
      "_model_module": "@jupyter-widgets/base",
      "_model_module_version": "1.2.0",
      "_model_name": "LayoutModel",
      "_view_count": null,
      "_view_module": "@jupyter-widgets/base",
      "_view_module_version": "1.2.0",
      "_view_name": "LayoutView",
      "align_content": null,
      "align_items": null,
      "align_self": null,
      "border": null,
      "bottom": null,
      "display": null,
      "flex": null,
      "flex_flow": null,
      "grid_area": null,
      "grid_auto_columns": null,
      "grid_auto_flow": null,
      "grid_auto_rows": null,
      "grid_column": null,
      "grid_gap": null,
      "grid_row": null,
      "grid_template_areas": null,
      "grid_template_columns": null,
      "grid_template_rows": null,
      "height": null,
      "justify_content": null,
      "justify_items": null,
      "left": null,
      "margin": null,
      "max_height": null,
      "max_width": null,
      "min_height": null,
      "min_width": null,
      "object_fit": null,
      "object_position": null,
      "order": null,
      "overflow": null,
      "overflow_x": null,
      "overflow_y": null,
      "padding": null,
      "right": null,
      "top": null,
      "visibility": null,
      "width": null
     }
    },
    "919d9f6ef2e64fe6816fc946681661d2": {
     "model_module": "@jupyter-widgets/controls",
     "model_module_version": "1.5.0",
     "model_name": "HBoxModel",
     "state": {
      "_dom_classes": [],
      "_model_module": "@jupyter-widgets/controls",
      "_model_module_version": "1.5.0",
      "_model_name": "HBoxModel",
      "_view_count": null,
      "_view_module": "@jupyter-widgets/controls",
      "_view_module_version": "1.5.0",
      "_view_name": "HBoxView",
      "box_style": "",
      "children": [
       "IPY_MODEL_39db6d9113f14c8f8d55e6e656bdfcfa",
       "IPY_MODEL_732526c2dfe14326832a2fb86db6d6e3",
       "IPY_MODEL_567e7d67e988418b95b6b73e343e1382"
      ],
      "layout": "IPY_MODEL_fe7702d447b04fd7a338365fdb5b2f99"
     }
    },
    "ad68264b1fe9447c97be4fdb2cfc5672": {
     "model_module": "@jupyter-widgets/controls",
     "model_module_version": "1.5.0",
     "model_name": "DescriptionStyleModel",
     "state": {
      "_model_module": "@jupyter-widgets/controls",
      "_model_module_version": "1.5.0",
      "_model_name": "DescriptionStyleModel",
      "_view_count": null,
      "_view_module": "@jupyter-widgets/base",
      "_view_module_version": "1.2.0",
      "_view_name": "StyleView",
      "description_width": ""
     }
    },
    "c6d01735dedc488faecfe7e9f3dd94ff": {
     "model_module": "@jupyter-widgets/controls",
     "model_module_version": "1.5.0",
     "model_name": "HTMLModel",
     "state": {
      "_dom_classes": [],
      "_model_module": "@jupyter-widgets/controls",
      "_model_module_version": "1.5.0",
      "_model_name": "HTMLModel",
      "_view_count": null,
      "_view_module": "@jupyter-widgets/controls",
      "_view_module_version": "1.5.0",
      "_view_name": "HTMLView",
      "description": "",
      "description_tooltip": null,
      "layout": "IPY_MODEL_1d1c58fe0312400f9af0b65d8b91eca5",
      "placeholder": "​",
      "style": "IPY_MODEL_ad68264b1fe9447c97be4fdb2cfc5672",
      "value": " 25/25 [00:22&lt;00:00,  1.70it/s]"
     }
    },
    "cfce85a0a80243f1853288303d77f629": {
     "model_module": "@jupyter-widgets/controls",
     "model_module_version": "1.5.0",
     "model_name": "HTMLModel",
     "state": {
      "_dom_classes": [],
      "_model_module": "@jupyter-widgets/controls",
      "_model_module_version": "1.5.0",
      "_model_name": "HTMLModel",
      "_view_count": null,
      "_view_module": "@jupyter-widgets/controls",
      "_view_module_version": "1.5.0",
      "_view_name": "HTMLView",
      "description": "",
      "description_tooltip": null,
      "layout": "IPY_MODEL_5b4729557ea14bd4b69a2692d065c1c8",
      "placeholder": "​",
      "style": "IPY_MODEL_0b5caa7a7ec54efdbaf6d7ffa367fec5",
      "value": "100%"
     }
    },
    "d6c0250095034aa7b608c188cc76a0cc": {
     "model_module": "@jupyter-widgets/controls",
     "model_module_version": "1.5.0",
     "model_name": "DescriptionStyleModel",
     "state": {
      "_model_module": "@jupyter-widgets/controls",
      "_model_module_version": "1.5.0",
      "_model_name": "DescriptionStyleModel",
      "_view_count": null,
      "_view_module": "@jupyter-widgets/base",
      "_view_module_version": "1.2.0",
      "_view_name": "StyleView",
      "description_width": ""
     }
    },
    "e0f6e5a994524e089ebb2233683fe8b7": {
     "model_module": "@jupyter-widgets/controls",
     "model_module_version": "1.5.0",
     "model_name": "ProgressStyleModel",
     "state": {
      "_model_module": "@jupyter-widgets/controls",
      "_model_module_version": "1.5.0",
      "_model_name": "ProgressStyleModel",
      "_view_count": null,
      "_view_module": "@jupyter-widgets/base",
      "_view_module_version": "1.2.0",
      "_view_name": "StyleView",
      "bar_color": null,
      "description_width": ""
     }
    },
    "fe7702d447b04fd7a338365fdb5b2f99": {
     "model_module": "@jupyter-widgets/base",
     "model_module_version": "1.2.0",
     "model_name": "LayoutModel",
     "state": {
      "_model_module": "@jupyter-widgets/base",
      "_model_module_version": "1.2.0",
      "_model_name": "LayoutModel",
      "_view_count": null,
      "_view_module": "@jupyter-widgets/base",
      "_view_module_version": "1.2.0",
      "_view_name": "LayoutView",
      "align_content": null,
      "align_items": null,
      "align_self": null,
      "border": null,
      "bottom": null,
      "display": null,
      "flex": null,
      "flex_flow": null,
      "grid_area": null,
      "grid_auto_columns": null,
      "grid_auto_flow": null,
      "grid_auto_rows": null,
      "grid_column": null,
      "grid_gap": null,
      "grid_row": null,
      "grid_template_areas": null,
      "grid_template_columns": null,
      "grid_template_rows": null,
      "height": null,
      "justify_content": null,
      "justify_items": null,
      "left": null,
      "margin": null,
      "max_height": null,
      "max_width": null,
      "min_height": null,
      "min_width": null,
      "object_fit": null,
      "object_position": null,
      "order": null,
      "overflow": null,
      "overflow_x": null,
      "overflow_y": null,
      "padding": null,
      "right": null,
      "top": null,
      "visibility": null,
      "width": null
     }
    }
   }
  }
 },
 "nbformat": 4,
 "nbformat_minor": 4
}
